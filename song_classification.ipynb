{
  "nbformat": 4,
  "nbformat_minor": 0,
  "metadata": {
    "kernelspec": {
      "display_name": "Python 3",
      "language": "python",
      "name": "python3"
    },
    "language_info": {
      "version": "3.5.2",
      "codemirror_mode": {
        "version": 3,
        "name": "ipython"
      },
      "mimetype": "text/x-python",
      "file_extension": ".py",
      "pygments_lexer": "ipython3",
      "nbconvert_exporter": "python",
      "name": "python"
    },
    "colab": {
      "name": "song classification.ipynb",
      "provenance": [],
      "collapsed_sections": [],
      "include_colab_link": true
    }
  },
  "cells": [
    {
      "cell_type": "markdown",
      "metadata": {
        "id": "view-in-github",
        "colab_type": "text"
      },
      "source": [
        "<a href=\"https://colab.research.google.com/github/caltunay/for_fun_EDAs/blob/master/song_classification.ipynb\" target=\"_parent\"><img src=\"https://colab.research.google.com/assets/colab-badge.svg\" alt=\"Open In Colab\"/></a>"
      ]
    },
    {
      "cell_type": "code",
      "metadata": {
        "trusted": true,
        "dc": {
          "key": "3"
        },
        "tags": [
          "sample_code"
        ],
        "id": "3ZKFXN9Uqi4R",
        "colab_type": "code",
        "colab": {},
        "outputId": "562b5b09-8959-4bfc-b843-267a2c8d70c3"
      },
      "source": [
        "import pandas as pd\n",
        "\n",
        "# Read in track metadata with genre labels\n",
        "tracks = pd.read_csv('datasets/fma-rock-vs-hiphop.csv')\n",
        "\n",
        "# Read in track metrics with the features\n",
        "echonest_metrics = pd.read_json('datasets/echonest-metrics.json', precise_float = True)\n",
        "\n",
        "# Merge the relevant columns of tracks and echonest_metrics\n",
        "echo_tracks = pd.merge(left = echonest_metrics, right = tracks[['track_id','genre_top']], on = 'track_id', how = 'inner')\n",
        "\n",
        "# Inspect the resultant dataframe\n",
        "echo_tracks.info()"
      ],
      "execution_count": 0,
      "outputs": [
        {
          "output_type": "stream",
          "text": [
            "<class 'pandas.core.frame.DataFrame'>\n",
            "Int64Index: 4802 entries, 0 to 4801\n",
            "Data columns (total 10 columns):\n",
            "acousticness        4802 non-null float64\n",
            "danceability        4802 non-null float64\n",
            "energy              4802 non-null float64\n",
            "instrumentalness    4802 non-null float64\n",
            "liveness            4802 non-null float64\n",
            "speechiness         4802 non-null float64\n",
            "tempo               4802 non-null float64\n",
            "track_id            4802 non-null int64\n",
            "valence             4802 non-null float64\n",
            "genre_top           4802 non-null object\n",
            "dtypes: float64(8), int64(1), object(1)\n",
            "memory usage: 412.7+ KB\n"
          ],
          "name": "stdout"
        }
      ]
    },
    {
      "cell_type": "markdown",
      "metadata": {
        "deletable": false,
        "run_control": {
          "frozen": true
        },
        "editable": false,
        "dc": {
          "key": "10"
        },
        "tags": [
          "context"
        ],
        "id": "dR9ejA0hqi4Y",
        "colab_type": "text"
      },
      "source": [
        "##  Pairwise relationships between continuous variables\n"
      ]
    },
    {
      "cell_type": "code",
      "metadata": {
        "trusted": true,
        "dc": {
          "key": "10"
        },
        "tags": [
          "sample_code"
        ],
        "id": "fXVCKuvgqi4Z",
        "colab_type": "code",
        "colab": {},
        "outputId": "697b6860-1cfe-4382-cd6a-d45f68ed91ca"
      },
      "source": [
        "# Create a correlation matrix\n",
        "\n",
        "corr_metrics = echo_tracks.corr()\n",
        "corr_metrics.style.background_gradient()"
      ],
      "execution_count": 0,
      "outputs": [
        {
          "output_type": "execute_result",
          "data": {
            "text/plain": [
              "<pandas.io.formats.style.Styler at 0x7f5cb5f2e4e0>"
            ],
            "text/html": [
              "<style  type=\"text/css\" >\n",
              "    #T_dd04e15a_f321_11e9_8eac_0242ac110023row0_col0 {\n",
              "            background-color:  #023858;\n",
              "        }    #T_dd04e15a_f321_11e9_8eac_0242ac110023row0_col1 {\n",
              "            background-color:  #e0dded;\n",
              "        }    #T_dd04e15a_f321_11e9_8eac_0242ac110023row0_col2 {\n",
              "            background-color:  #fff7fb;\n",
              "        }    #T_dd04e15a_f321_11e9_8eac_0242ac110023row0_col3 {\n",
              "            background-color:  #97b7d7;\n",
              "        }    #T_dd04e15a_f321_11e9_8eac_0242ac110023row0_col4 {\n",
              "            background-color:  #f3edf5;\n",
              "        }    #T_dd04e15a_f321_11e9_8eac_0242ac110023row0_col5 {\n",
              "            background-color:  #b8c6e0;\n",
              "        }    #T_dd04e15a_f321_11e9_8eac_0242ac110023row0_col6 {\n",
              "            background-color:  #e1dfed;\n",
              "        }    #T_dd04e15a_f321_11e9_8eac_0242ac110023row0_col7 {\n",
              "            background-color:  #fff7fb;\n",
              "        }    #T_dd04e15a_f321_11e9_8eac_0242ac110023row0_col8 {\n",
              "            background-color:  #e2dfee;\n",
              "        }    #T_dd04e15a_f321_11e9_8eac_0242ac110023row1_col0 {\n",
              "            background-color:  #d0d1e6;\n",
              "        }    #T_dd04e15a_f321_11e9_8eac_0242ac110023row1_col1 {\n",
              "            background-color:  #023858;\n",
              "        }    #T_dd04e15a_f321_11e9_8eac_0242ac110023row1_col2 {\n",
              "            background-color:  #fbf3f9;\n",
              "        }    #T_dd04e15a_f321_11e9_8eac_0242ac110023row1_col3 {\n",
              "            background-color:  #f3edf5;\n",
              "        }    #T_dd04e15a_f321_11e9_8eac_0242ac110023row1_col4 {\n",
              "            background-color:  #fff7fb;\n",
              "        }    #T_dd04e15a_f321_11e9_8eac_0242ac110023row1_col5 {\n",
              "            background-color:  #80aed2;\n",
              "        }    #T_dd04e15a_f321_11e9_8eac_0242ac110023row1_col6 {\n",
              "            background-color:  #fff7fb;\n",
              "        }    #T_dd04e15a_f321_11e9_8eac_0242ac110023row1_col7 {\n",
              "            background-color:  #bdc8e1;\n",
              "        }    #T_dd04e15a_f321_11e9_8eac_0242ac110023row1_col8 {\n",
              "            background-color:  #529bc7;\n",
              "        }    #T_dd04e15a_f321_11e9_8eac_0242ac110023row2_col0 {\n",
              "            background-color:  #f5eff6;\n",
              "        }    #T_dd04e15a_f321_11e9_8eac_0242ac110023row2_col1 {\n",
              "            background-color:  #fef6fa;\n",
              "        }    #T_dd04e15a_f321_11e9_8eac_0242ac110023row2_col2 {\n",
              "            background-color:  #023858;\n",
              "        }    #T_dd04e15a_f321_11e9_8eac_0242ac110023row2_col3 {\n",
              "            background-color:  #c4cbe3;\n",
              "        }    #T_dd04e15a_f321_11e9_8eac_0242ac110023row2_col4 {\n",
              "            background-color:  #dcdaeb;\n",
              "        }    #T_dd04e15a_f321_11e9_8eac_0242ac110023row2_col5 {\n",
              "            background-color:  #dedcec;\n",
              "        }    #T_dd04e15a_f321_11e9_8eac_0242ac110023row2_col6 {\n",
              "            background-color:  #adc1dd;\n",
              "        }    #T_dd04e15a_f321_11e9_8eac_0242ac110023row2_col7 {\n",
              "            background-color:  #a7bddb;\n",
              "        }    #T_dd04e15a_f321_11e9_8eac_0242ac110023row2_col8 {\n",
              "            background-color:  #d9d8ea;\n",
              "        }    #T_dd04e15a_f321_11e9_8eac_0242ac110023row3_col0 {\n",
              "            background-color:  #97b7d7;\n",
              "        }    #T_dd04e15a_f321_11e9_8eac_0242ac110023row3_col1 {\n",
              "            background-color:  #fff7fb;\n",
              "        }    #T_dd04e15a_f321_11e9_8eac_0242ac110023row3_col2 {\n",
              "            background-color:  #d2d3e7;\n",
              "        }    #T_dd04e15a_f321_11e9_8eac_0242ac110023row3_col3 {\n",
              "            background-color:  #023858;\n",
              "        }    #T_dd04e15a_f321_11e9_8eac_0242ac110023row3_col4 {\n",
              "            background-color:  #fdf5fa;\n",
              "        }    #T_dd04e15a_f321_11e9_8eac_0242ac110023row3_col5 {\n",
              "            background-color:  #fff7fb;\n",
              "        }    #T_dd04e15a_f321_11e9_8eac_0242ac110023row3_col6 {\n",
              "            background-color:  #d9d8ea;\n",
              "        }    #T_dd04e15a_f321_11e9_8eac_0242ac110023row3_col7 {\n",
              "            background-color:  #f4eef6;\n",
              "        }    #T_dd04e15a_f321_11e9_8eac_0242ac110023row3_col8 {\n",
              "            background-color:  #fff7fb;\n",
              "        }    #T_dd04e15a_f321_11e9_8eac_0242ac110023row4_col0 {\n",
              "            background-color:  #ced0e6;\n",
              "        }    #T_dd04e15a_f321_11e9_8eac_0242ac110023row4_col1 {\n",
              "            background-color:  #ede8f3;\n",
              "        }    #T_dd04e15a_f321_11e9_8eac_0242ac110023row4_col2 {\n",
              "            background-color:  #bdc8e1;\n",
              "        }    #T_dd04e15a_f321_11e9_8eac_0242ac110023row4_col3 {\n",
              "            background-color:  #dbdaeb;\n",
              "        }    #T_dd04e15a_f321_11e9_8eac_0242ac110023row4_col4 {\n",
              "            background-color:  #023858;\n",
              "        }    #T_dd04e15a_f321_11e9_8eac_0242ac110023row4_col5 {\n",
              "            background-color:  #c0c9e2;\n",
              "        }    #T_dd04e15a_f321_11e9_8eac_0242ac110023row4_col6 {\n",
              "            background-color:  #dcdaeb;\n",
              "        }    #T_dd04e15a_f321_11e9_8eac_0242ac110023row4_col7 {\n",
              "            background-color:  #bdc8e1;\n",
              "        }    #T_dd04e15a_f321_11e9_8eac_0242ac110023row4_col8 {\n",
              "            background-color:  #e8e4f0;\n",
              "        }    #T_dd04e15a_f321_11e9_8eac_0242ac110023row5_col0 {\n",
              "            background-color:  #b8c6e0;\n",
              "        }    #T_dd04e15a_f321_11e9_8eac_0242ac110023row5_col1 {\n",
              "            background-color:  #93b5d6;\n",
              "        }    #T_dd04e15a_f321_11e9_8eac_0242ac110023row5_col2 {\n",
              "            background-color:  #eae6f1;\n",
              "        }    #T_dd04e15a_f321_11e9_8eac_0242ac110023row5_col3 {\n",
              "            background-color:  #fff7fb;\n",
              "        }    #T_dd04e15a_f321_11e9_8eac_0242ac110023row5_col4 {\n",
              "            background-color:  #eae6f1;\n",
              "        }    #T_dd04e15a_f321_11e9_8eac_0242ac110023row5_col5 {\n",
              "            background-color:  #023858;\n",
              "        }    #T_dd04e15a_f321_11e9_8eac_0242ac110023row5_col6 {\n",
              "            background-color:  #dbdaeb;\n",
              "        }    #T_dd04e15a_f321_11e9_8eac_0242ac110023row5_col7 {\n",
              "            background-color:  #d0d1e6;\n",
              "        }    #T_dd04e15a_f321_11e9_8eac_0242ac110023row5_col8 {\n",
              "            background-color:  #bfc9e1;\n",
              "        }    #T_dd04e15a_f321_11e9_8eac_0242ac110023row6_col0 {\n",
              "            background-color:  #d0d1e6;\n",
              "        }    #T_dd04e15a_f321_11e9_8eac_0242ac110023row6_col1 {\n",
              "            background-color:  #fef6fa;\n",
              "        }    #T_dd04e15a_f321_11e9_8eac_0242ac110023row6_col2 {\n",
              "            background-color:  #a7bddb;\n",
              "        }    #T_dd04e15a_f321_11e9_8eac_0242ac110023row6_col3 {\n",
              "            background-color:  #c5cce3;\n",
              "        }    #T_dd04e15a_f321_11e9_8eac_0242ac110023row6_col4 {\n",
              "            background-color:  #f0eaf4;\n",
              "        }    #T_dd04e15a_f321_11e9_8eac_0242ac110023row6_col5 {\n",
              "            background-color:  #c8cde4;\n",
              "        }    #T_dd04e15a_f321_11e9_8eac_0242ac110023row6_col6 {\n",
              "            background-color:  #023858;\n",
              "        }    #T_dd04e15a_f321_11e9_8eac_0242ac110023row6_col7 {\n",
              "            background-color:  #d0d1e6;\n",
              "        }    #T_dd04e15a_f321_11e9_8eac_0242ac110023row6_col8 {\n",
              "            background-color:  #d6d6e9;\n",
              "        }    #T_dd04e15a_f321_11e9_8eac_0242ac110023row7_col0 {\n",
              "            background-color:  #fff7fb;\n",
              "        }    #T_dd04e15a_f321_11e9_8eac_0242ac110023row7_col1 {\n",
              "            background-color:  #d2d2e7;\n",
              "        }    #T_dd04e15a_f321_11e9_8eac_0242ac110023row7_col2 {\n",
              "            background-color:  #b5c4df;\n",
              "        }    #T_dd04e15a_f321_11e9_8eac_0242ac110023row7_col3 {\n",
              "            background-color:  #f5eef6;\n",
              "        }    #T_dd04e15a_f321_11e9_8eac_0242ac110023row7_col4 {\n",
              "            background-color:  #e9e5f1;\n",
              "        }    #T_dd04e15a_f321_11e9_8eac_0242ac110023row7_col5 {\n",
              "            background-color:  #d1d2e6;\n",
              "        }    #T_dd04e15a_f321_11e9_8eac_0242ac110023row7_col6 {\n",
              "            background-color:  #e1dfed;\n",
              "        }    #T_dd04e15a_f321_11e9_8eac_0242ac110023row7_col7 {\n",
              "            background-color:  #023858;\n",
              "        }    #T_dd04e15a_f321_11e9_8eac_0242ac110023row7_col8 {\n",
              "            background-color:  #dedcec;\n",
              "        }    #T_dd04e15a_f321_11e9_8eac_0242ac110023row8_col0 {\n",
              "            background-color:  #cdd0e5;\n",
              "        }    #T_dd04e15a_f321_11e9_8eac_0242ac110023row8_col1 {\n",
              "            background-color:  #4c99c5;\n",
              "        }    #T_dd04e15a_f321_11e9_8eac_0242ac110023row8_col2 {\n",
              "            background-color:  #d1d2e6;\n",
              "        }    #T_dd04e15a_f321_11e9_8eac_0242ac110023row8_col3 {\n",
              "            background-color:  #efe9f3;\n",
              "        }    #T_dd04e15a_f321_11e9_8eac_0242ac110023row8_col4 {\n",
              "            background-color:  #f7f0f7;\n",
              "        }    #T_dd04e15a_f321_11e9_8eac_0242ac110023row8_col5 {\n",
              "            background-color:  #a5bddb;\n",
              "        }    #T_dd04e15a_f321_11e9_8eac_0242ac110023row8_col6 {\n",
              "            background-color:  #d3d4e7;\n",
              "        }    #T_dd04e15a_f321_11e9_8eac_0242ac110023row8_col7 {\n",
              "            background-color:  #c6cce3;\n",
              "        }    #T_dd04e15a_f321_11e9_8eac_0242ac110023row8_col8 {\n",
              "            background-color:  #023858;\n",
              "        }</style>  \n",
              "<table id=\"T_dd04e15a_f321_11e9_8eac_0242ac110023\" > \n",
              "<thead>    <tr> \n",
              "        <th class=\"blank level0\" ></th> \n",
              "        <th class=\"col_heading level0 col0\" >acousticness</th> \n",
              "        <th class=\"col_heading level0 col1\" >danceability</th> \n",
              "        <th class=\"col_heading level0 col2\" >energy</th> \n",
              "        <th class=\"col_heading level0 col3\" >instrumentalness</th> \n",
              "        <th class=\"col_heading level0 col4\" >liveness</th> \n",
              "        <th class=\"col_heading level0 col5\" >speechiness</th> \n",
              "        <th class=\"col_heading level0 col6\" >tempo</th> \n",
              "        <th class=\"col_heading level0 col7\" >track_id</th> \n",
              "        <th class=\"col_heading level0 col8\" >valence</th> \n",
              "    </tr></thead> \n",
              "<tbody>    <tr> \n",
              "        <th id=\"T_dd04e15a_f321_11e9_8eac_0242ac110023level0_row0\" class=\"row_heading level0 row0\" >acousticness</th> \n",
              "        <td id=\"T_dd04e15a_f321_11e9_8eac_0242ac110023row0_col0\" class=\"data row0 col0\" >1</td> \n",
              "        <td id=\"T_dd04e15a_f321_11e9_8eac_0242ac110023row0_col1\" class=\"data row0 col1\" >-0.0289537</td> \n",
              "        <td id=\"T_dd04e15a_f321_11e9_8eac_0242ac110023row0_col2\" class=\"data row0 col2\" >-0.281619</td> \n",
              "        <td id=\"T_dd04e15a_f321_11e9_8eac_0242ac110023row0_col3\" class=\"data row0 col3\" >0.19478</td> \n",
              "        <td id=\"T_dd04e15a_f321_11e9_8eac_0242ac110023row0_col4\" class=\"data row0 col4\" >-0.0199914</td> \n",
              "        <td id=\"T_dd04e15a_f321_11e9_8eac_0242ac110023row0_col5\" class=\"data row0 col5\" >0.072204</td> \n",
              "        <td id=\"T_dd04e15a_f321_11e9_8eac_0242ac110023row0_col6\" class=\"data row0 col6\" >-0.0263097</td> \n",
              "        <td id=\"T_dd04e15a_f321_11e9_8eac_0242ac110023row0_col7\" class=\"data row0 col7\" >-0.372282</td> \n",
              "        <td id=\"T_dd04e15a_f321_11e9_8eac_0242ac110023row0_col8\" class=\"data row0 col8\" >-0.0138406</td> \n",
              "    </tr>    <tr> \n",
              "        <th id=\"T_dd04e15a_f321_11e9_8eac_0242ac110023level0_row1\" class=\"row_heading level0 row1\" >danceability</th> \n",
              "        <td id=\"T_dd04e15a_f321_11e9_8eac_0242ac110023row1_col0\" class=\"data row1 col0\" >-0.0289537</td> \n",
              "        <td id=\"T_dd04e15a_f321_11e9_8eac_0242ac110023row1_col1\" class=\"data row1 col1\" >1</td> \n",
              "        <td id=\"T_dd04e15a_f321_11e9_8eac_0242ac110023row1_col2\" class=\"data row1 col2\" >-0.242032</td> \n",
              "        <td id=\"T_dd04e15a_f321_11e9_8eac_0242ac110023row1_col3\" class=\"data row1 col3\" >-0.255217</td> \n",
              "        <td id=\"T_dd04e15a_f321_11e9_8eac_0242ac110023row1_col4\" class=\"data row1 col4\" >-0.106584</td> \n",
              "        <td id=\"T_dd04e15a_f321_11e9_8eac_0242ac110023row1_col5\" class=\"data row1 col5\" >0.276206</td> \n",
              "        <td id=\"T_dd04e15a_f321_11e9_8eac_0242ac110023row1_col6\" class=\"data row1 col6\" >-0.242089</td> \n",
              "        <td id=\"T_dd04e15a_f321_11e9_8eac_0242ac110023row1_col7\" class=\"data row1 col7\" >0.0494541</td> \n",
              "        <td id=\"T_dd04e15a_f321_11e9_8eac_0242ac110023row1_col8\" class=\"data row1 col8\" >0.473165</td> \n",
              "    </tr>    <tr> \n",
              "        <th id=\"T_dd04e15a_f321_11e9_8eac_0242ac110023level0_row2\" class=\"row_heading level0 row2\" >energy</th> \n",
              "        <td id=\"T_dd04e15a_f321_11e9_8eac_0242ac110023row2_col0\" class=\"data row2 col0\" >-0.281619</td> \n",
              "        <td id=\"T_dd04e15a_f321_11e9_8eac_0242ac110023row2_col1\" class=\"data row2 col1\" >-0.242032</td> \n",
              "        <td id=\"T_dd04e15a_f321_11e9_8eac_0242ac110023row2_col2\" class=\"data row2 col2\" >1</td> \n",
              "        <td id=\"T_dd04e15a_f321_11e9_8eac_0242ac110023row2_col3\" class=\"data row2 col3\" >0.0282377</td> \n",
              "        <td id=\"T_dd04e15a_f321_11e9_8eac_0242ac110023row2_col4\" class=\"data row2 col4\" >0.113331</td> \n",
              "        <td id=\"T_dd04e15a_f321_11e9_8eac_0242ac110023row2_col5\" class=\"data row2 col5\" >-0.109983</td> \n",
              "        <td id=\"T_dd04e15a_f321_11e9_8eac_0242ac110023row2_col6\" class=\"data row2 col6\" >0.195227</td> \n",
              "        <td id=\"T_dd04e15a_f321_11e9_8eac_0242ac110023row2_col7\" class=\"data row2 col7\" >0.140703</td> \n",
              "        <td id=\"T_dd04e15a_f321_11e9_8eac_0242ac110023row2_col8\" class=\"data row2 col8\" >0.0386027</td> \n",
              "    </tr>    <tr> \n",
              "        <th id=\"T_dd04e15a_f321_11e9_8eac_0242ac110023level0_row3\" class=\"row_heading level0 row3\" >instrumentalness</th> \n",
              "        <td id=\"T_dd04e15a_f321_11e9_8eac_0242ac110023row3_col0\" class=\"data row3 col0\" >0.19478</td> \n",
              "        <td id=\"T_dd04e15a_f321_11e9_8eac_0242ac110023row3_col1\" class=\"data row3 col1\" >-0.255217</td> \n",
              "        <td id=\"T_dd04e15a_f321_11e9_8eac_0242ac110023row3_col2\" class=\"data row3 col2\" >0.0282377</td> \n",
              "        <td id=\"T_dd04e15a_f321_11e9_8eac_0242ac110023row3_col3\" class=\"data row3 col3\" >1</td> \n",
              "        <td id=\"T_dd04e15a_f321_11e9_8eac_0242ac110023row3_col4\" class=\"data row3 col4\" >-0.0910218</td> \n",
              "        <td id=\"T_dd04e15a_f321_11e9_8eac_0242ac110023row3_col5\" class=\"data row3 col5\" >-0.366762</td> \n",
              "        <td id=\"T_dd04e15a_f321_11e9_8eac_0242ac110023row3_col6\" class=\"data row3 col6\" >0.022215</td> \n",
              "        <td id=\"T_dd04e15a_f321_11e9_8eac_0242ac110023row3_col7\" class=\"data row3 col7\" >-0.275623</td> \n",
              "        <td id=\"T_dd04e15a_f321_11e9_8eac_0242ac110023row3_col8\" class=\"data row3 col8\" >-0.219967</td> \n",
              "    </tr>    <tr> \n",
              "        <th id=\"T_dd04e15a_f321_11e9_8eac_0242ac110023level0_row4\" class=\"row_heading level0 row4\" >liveness</th> \n",
              "        <td id=\"T_dd04e15a_f321_11e9_8eac_0242ac110023row4_col0\" class=\"data row4 col0\" >-0.0199914</td> \n",
              "        <td id=\"T_dd04e15a_f321_11e9_8eac_0242ac110023row4_col1\" class=\"data row4 col1\" >-0.106584</td> \n",
              "        <td id=\"T_dd04e15a_f321_11e9_8eac_0242ac110023row4_col2\" class=\"data row4 col2\" >0.113331</td> \n",
              "        <td id=\"T_dd04e15a_f321_11e9_8eac_0242ac110023row4_col3\" class=\"data row4 col3\" >-0.0910218</td> \n",
              "        <td id=\"T_dd04e15a_f321_11e9_8eac_0242ac110023row4_col4\" class=\"data row4 col4\" >1</td> \n",
              "        <td id=\"T_dd04e15a_f321_11e9_8eac_0242ac110023row4_col5\" class=\"data row4 col5\" >0.0411725</td> \n",
              "        <td id=\"T_dd04e15a_f321_11e9_8eac_0242ac110023row4_col6\" class=\"data row4 col6\" >0.00273169</td> \n",
              "        <td id=\"T_dd04e15a_f321_11e9_8eac_0242ac110023row4_col7\" class=\"data row4 col7\" >0.0482307</td> \n",
              "        <td id=\"T_dd04e15a_f321_11e9_8eac_0242ac110023row4_col8\" class=\"data row4 col8\" >-0.0450931</td> \n",
              "    </tr>    <tr> \n",
              "        <th id=\"T_dd04e15a_f321_11e9_8eac_0242ac110023level0_row5\" class=\"row_heading level0 row5\" >speechiness</th> \n",
              "        <td id=\"T_dd04e15a_f321_11e9_8eac_0242ac110023row5_col0\" class=\"data row5 col0\" >0.072204</td> \n",
              "        <td id=\"T_dd04e15a_f321_11e9_8eac_0242ac110023row5_col1\" class=\"data row5 col1\" >0.276206</td> \n",
              "        <td id=\"T_dd04e15a_f321_11e9_8eac_0242ac110023row5_col2\" class=\"data row5 col2\" >-0.109983</td> \n",
              "        <td id=\"T_dd04e15a_f321_11e9_8eac_0242ac110023row5_col3\" class=\"data row5 col3\" >-0.366762</td> \n",
              "        <td id=\"T_dd04e15a_f321_11e9_8eac_0242ac110023row5_col4\" class=\"data row5 col4\" >0.0411725</td> \n",
              "        <td id=\"T_dd04e15a_f321_11e9_8eac_0242ac110023row5_col5\" class=\"data row5 col5\" >1</td> \n",
              "        <td id=\"T_dd04e15a_f321_11e9_8eac_0242ac110023row5_col6\" class=\"data row5 col6\" >0.00824055</td> \n",
              "        <td id=\"T_dd04e15a_f321_11e9_8eac_0242ac110023row5_col7\" class=\"data row5 col7\" >-0.0269951</td> \n",
              "        <td id=\"T_dd04e15a_f321_11e9_8eac_0242ac110023row5_col8\" class=\"data row5 col8\" >0.149894</td> \n",
              "    </tr>    <tr> \n",
              "        <th id=\"T_dd04e15a_f321_11e9_8eac_0242ac110023level0_row6\" class=\"row_heading level0 row6\" >tempo</th> \n",
              "        <td id=\"T_dd04e15a_f321_11e9_8eac_0242ac110023row6_col0\" class=\"data row6 col0\" >-0.0263097</td> \n",
              "        <td id=\"T_dd04e15a_f321_11e9_8eac_0242ac110023row6_col1\" class=\"data row6 col1\" >-0.242089</td> \n",
              "        <td id=\"T_dd04e15a_f321_11e9_8eac_0242ac110023row6_col2\" class=\"data row6 col2\" >0.195227</td> \n",
              "        <td id=\"T_dd04e15a_f321_11e9_8eac_0242ac110023row6_col3\" class=\"data row6 col3\" >0.022215</td> \n",
              "        <td id=\"T_dd04e15a_f321_11e9_8eac_0242ac110023row6_col4\" class=\"data row6 col4\" >0.00273169</td> \n",
              "        <td id=\"T_dd04e15a_f321_11e9_8eac_0242ac110023row6_col5\" class=\"data row6 col5\" >0.00824055</td> \n",
              "        <td id=\"T_dd04e15a_f321_11e9_8eac_0242ac110023row6_col6\" class=\"data row6 col6\" >1</td> \n",
              "        <td id=\"T_dd04e15a_f321_11e9_8eac_0242ac110023row6_col7\" class=\"data row6 col7\" >-0.0253918</td> \n",
              "        <td id=\"T_dd04e15a_f321_11e9_8eac_0242ac110023row6_col8\" class=\"data row6 col8\" >0.0522212</td> \n",
              "    </tr>    <tr> \n",
              "        <th id=\"T_dd04e15a_f321_11e9_8eac_0242ac110023level0_row7\" class=\"row_heading level0 row7\" >track_id</th> \n",
              "        <td id=\"T_dd04e15a_f321_11e9_8eac_0242ac110023row7_col0\" class=\"data row7 col0\" >-0.372282</td> \n",
              "        <td id=\"T_dd04e15a_f321_11e9_8eac_0242ac110023row7_col1\" class=\"data row7 col1\" >0.0494541</td> \n",
              "        <td id=\"T_dd04e15a_f321_11e9_8eac_0242ac110023row7_col2\" class=\"data row7 col2\" >0.140703</td> \n",
              "        <td id=\"T_dd04e15a_f321_11e9_8eac_0242ac110023row7_col3\" class=\"data row7 col3\" >-0.275623</td> \n",
              "        <td id=\"T_dd04e15a_f321_11e9_8eac_0242ac110023row7_col4\" class=\"data row7 col4\" >0.0482307</td> \n",
              "        <td id=\"T_dd04e15a_f321_11e9_8eac_0242ac110023row7_col5\" class=\"data row7 col5\" >-0.0269951</td> \n",
              "        <td id=\"T_dd04e15a_f321_11e9_8eac_0242ac110023row7_col6\" class=\"data row7 col6\" >-0.0253918</td> \n",
              "        <td id=\"T_dd04e15a_f321_11e9_8eac_0242ac110023row7_col7\" class=\"data row7 col7\" >1</td> \n",
              "        <td id=\"T_dd04e15a_f321_11e9_8eac_0242ac110023row7_col8\" class=\"data row7 col8\" >0.0100698</td> \n",
              "    </tr>    <tr> \n",
              "        <th id=\"T_dd04e15a_f321_11e9_8eac_0242ac110023level0_row8\" class=\"row_heading level0 row8\" >valence</th> \n",
              "        <td id=\"T_dd04e15a_f321_11e9_8eac_0242ac110023row8_col0\" class=\"data row8 col0\" >-0.0138406</td> \n",
              "        <td id=\"T_dd04e15a_f321_11e9_8eac_0242ac110023row8_col1\" class=\"data row8 col1\" >0.473165</td> \n",
              "        <td id=\"T_dd04e15a_f321_11e9_8eac_0242ac110023row8_col2\" class=\"data row8 col2\" >0.0386027</td> \n",
              "        <td id=\"T_dd04e15a_f321_11e9_8eac_0242ac110023row8_col3\" class=\"data row8 col3\" >-0.219967</td> \n",
              "        <td id=\"T_dd04e15a_f321_11e9_8eac_0242ac110023row8_col4\" class=\"data row8 col4\" >-0.0450931</td> \n",
              "        <td id=\"T_dd04e15a_f321_11e9_8eac_0242ac110023row8_col5\" class=\"data row8 col5\" >0.149894</td> \n",
              "        <td id=\"T_dd04e15a_f321_11e9_8eac_0242ac110023row8_col6\" class=\"data row8 col6\" >0.0522212</td> \n",
              "        <td id=\"T_dd04e15a_f321_11e9_8eac_0242ac110023row8_col7\" class=\"data row8 col7\" >0.0100698</td> \n",
              "        <td id=\"T_dd04e15a_f321_11e9_8eac_0242ac110023row8_col8\" class=\"data row8 col8\" >1</td> \n",
              "    </tr></tbody> \n",
              "</table> "
            ]
          },
          "metadata": {
            "tags": []
          },
          "execution_count": 381
        }
      ]
    },
    {
      "cell_type": "markdown",
      "metadata": {
        "deletable": false,
        "run_control": {
          "frozen": true
        },
        "editable": false,
        "dc": {
          "key": "17"
        },
        "tags": [
          "context"
        ],
        "id": "fiRqWj7Vqi4b",
        "colab_type": "text"
      },
      "source": [
        "## Normalizing the feature data\n"
      ]
    },
    {
      "cell_type": "code",
      "metadata": {
        "trusted": true,
        "dc": {
          "key": "17"
        },
        "tags": [
          "sample_code"
        ],
        "id": "6GEiB42wqi4c",
        "colab_type": "code",
        "colab": {}
      },
      "source": [
        "## While performing PCA, features with broader ranges will overpower others. \n",
        "## Standardisation before PCA \n",
        "\n",
        "# Define our features \n",
        "features = echo_tracks.drop(labels = ['genre_top', 'track_id'], axis = 1)\n",
        "\n",
        "# Define our labels\n",
        "labels = echo_tracks['genre_top']\n",
        "\n",
        "# Import the StandardScaler\n",
        "from sklearn.preprocessing import StandardScaler\n",
        "\n",
        "# Scale the features and set the values to a new variable\n",
        "scaler = StandardScaler()\n",
        "scaled_train_features = scaler.fit_transform(features)"
      ],
      "execution_count": 0,
      "outputs": []
    },
    {
      "cell_type": "markdown",
      "metadata": {
        "deletable": false,
        "run_control": {
          "frozen": true
        },
        "editable": false,
        "dc": {
          "key": "24"
        },
        "tags": [
          "context"
        ],
        "id": "XNWRUao6qi4f",
        "colab_type": "text"
      },
      "source": [
        "## Principal Component Analysis on scaled data\n"
      ]
    },
    {
      "cell_type": "code",
      "metadata": {
        "trusted": true,
        "dc": {
          "key": "24"
        },
        "tags": [
          "sample_code"
        ],
        "id": "EEF6_9rZqi4g",
        "colab_type": "code",
        "colab": {},
        "outputId": "99859f05-a086-424f-dabe-5777a3a127c6"
      },
      "source": [
        "%matplotlib inline\n",
        "\n",
        "# Import plotting module, and PCA class\n",
        "import matplotlib.pyplot as plt\n",
        "from sklearn.decomposition import PCA\n",
        "\n",
        "# Get explained variance ratios from PCA using all features\n",
        "pca = PCA()\n",
        "pca.fit(scaled_train_features)\n",
        "exp_variance = pca.explained_variance_ratio_\n",
        "\n",
        "# plot the explained variance using a barplot\n",
        "fig, ax = plt.subplots()\n",
        "ax.bar(list(range(len(exp_variance))), exp_variance)\n",
        "ax.set_xlabel('Principal Component #')"
      ],
      "execution_count": 0,
      "outputs": [
        {
          "output_type": "execute_result",
          "data": {
            "text/plain": [
              "Text(0.5,0,'Principal Component #')"
            ]
          },
          "metadata": {
            "tags": []
          },
          "execution_count": 385
        },
        {
          "output_type": "display_data",
          "data": {
            "text/plain": [
              "<Figure size 432x288 with 1 Axes>"
            ],
            "image/png": "[encoded data removed]"
          },
          "metadata": {
            "tags": []
          }
        }
      ]
    },
    {
      "cell_type": "markdown",
      "metadata": {
        "deletable": false,
        "run_control": {
          "frozen": true
        },
        "editable": false,
        "dc": {
          "key": "31"
        },
        "tags": [
          "context"
        ],
        "id": "jkXU7YfZqi4j",
        "colab_type": "text"
      },
      "source": [
        "## Further visualization of PCA\n"
      ]
    },
    {
      "cell_type": "code",
      "metadata": {
        "trusted": true,
        "dc": {
          "key": "31"
        },
        "tags": [
          "sample_code"
        ],
        "id": "YGL14cu7qi4k",
        "colab_type": "code",
        "colab": {},
        "outputId": "2e6c8505-0e97-455c-f088-b7894de9decb"
      },
      "source": [
        "# Import numpy\n",
        "import numpy as np\n",
        "\n",
        "# Calculate the cumulative explained variance\n",
        "cum_exp_variance = np.cumsum(exp_variance)\n",
        "\n",
        "# Plot the cumulative explained variance and draw a dashed line at 0.90.\n",
        "fig, ax = plt.subplots()\n",
        "ax.plot(cum_exp_variance)\n",
        "ax.axhline(y = 0.9, linestyle = '--')\n",
        "n_components = 6\n",
        "\n",
        "# Perform PCA with the chosen number of components and project data onto components\n",
        "pca = PCA(n_components = n_components, random_state=10)\n",
        "pca.fit(scaled_train_features)\n",
        "pca_projection = pca.transform(scaled_train_features)\n"
      ],
      "execution_count": 0,
      "outputs": [
        {
          "output_type": "display_data",
          "data": {
            "text/plain": [
              "<Figure size 432x288 with 1 Axes>"
            ],
            "image/png": "[encoded data removed]"
          },
          "metadata": {
            "tags": []
          }
        }
      ]
    },
    {
      "cell_type": "markdown",
      "metadata": {
        "deletable": false,
        "run_control": {
          "frozen": true
        },
        "editable": false,
        "dc": {
          "key": "38"
        },
        "tags": [
          "context"
        ],
        "id": "JGXKFUEwqi4m",
        "colab_type": "text"
      },
      "source": [
        "## Train a decision tree to classify genre\n"
      ]
    },
    {
      "cell_type": "code",
      "metadata": {
        "trusted": true,
        "dc": {
          "key": "38"
        },
        "tags": [
          "sample_code"
        ],
        "id": "Z_mTIIuVqi4n",
        "colab_type": "code",
        "colab": {}
      },
      "source": [
        "# Import train_test_split function and Decision tree classifier\n",
        "from sklearn.model_selection import train_test_split \n",
        "from sklearn.tree import DecisionTreeClassifier\n",
        "\n",
        "# Split data\n",
        "train_features, test_features, train_labels, test_labels = train_test_split(pca_projection, labels, random_state = 10)\n",
        "\n",
        "# Train decision tree\n",
        "tree = DecisionTreeClassifier(random_state = 10)\n",
        "tree.fit(train_features, train_labels)\n",
        "\n",
        "# Predict the labels for the test data\n",
        "pred_labels_tree = tree.predict(test_features)"
      ],
      "execution_count": 0,
      "outputs": []
    },
    {
      "cell_type": "markdown",
      "metadata": {
        "deletable": false,
        "run_control": {
          "frozen": true
        },
        "editable": false,
        "dc": {
          "key": "45"
        },
        "tags": [
          "context"
        ],
        "id": "Dma0NTm7qi4p",
        "colab_type": "text"
      },
      "source": [
        "##  Compare decision tree to a logistic regression\n"
      ]
    },
    {
      "cell_type": "code",
      "metadata": {
        "trusted": true,
        "dc": {
          "key": "45"
        },
        "tags": [
          "sample_code"
        ],
        "id": "WwJjbXXfqi4q",
        "colab_type": "code",
        "colab": {},
        "outputId": "9d91273b-2439-482d-c9e4-8a8339f48631"
      },
      "source": [
        "# Import LogisticRegression\n",
        "from sklearn.linear_model import LogisticRegression\n",
        "\n",
        "# Train logistic regression and predict labels for the test set\n",
        "logreg = LogisticRegression(random_state = 10)\n",
        "logreg.fit(train_features,train_labels)\n",
        "pred_labels_logit = logreg.predict(test_features)\n",
        "\n",
        "# Create the classification report for both models\n",
        "from sklearn.metrics import classification_report\n",
        "class_rep_tree = classification_report(test_labels, pred_labels_tree)\n",
        "class_rep_log = classification_report(test_labels, pred_labels_logit)\n",
        "\n",
        "print(\"Decision Tree: \\n\", class_rep_tree)\n",
        "print(\"Logistic Regression: \\n\", class_rep_log)"
      ],
      "execution_count": 0,
      "outputs": [
        {
          "output_type": "stream",
          "text": [
            "Decision Tree: \n",
            "              precision    recall  f1-score   support\n",
            "\n",
            "    Hip-Hop       0.66      0.66      0.66       229\n",
            "       Rock       0.92      0.92      0.92       972\n",
            "\n",
            "avg / total       0.87      0.87      0.87      1201\n",
            "\n",
            "Logistic Regression: \n",
            "              precision    recall  f1-score   support\n",
            "\n",
            "    Hip-Hop       0.75      0.57      0.65       229\n",
            "       Rock       0.90      0.95      0.93       972\n",
            "\n",
            "avg / total       0.87      0.88      0.87      1201\n",
            "\n"
          ],
          "name": "stdout"
        }
      ]
    },
    {
      "cell_type": "markdown",
      "metadata": {
        "deletable": false,
        "run_control": {
          "frozen": true
        },
        "editable": false,
        "dc": {
          "key": "52"
        },
        "tags": [
          "context"
        ],
        "id": "O2DD3qMzqi4s",
        "colab_type": "text"
      },
      "source": [
        "##  Balance data for greater performance\n"
      ]
    },
    {
      "cell_type": "code",
      "metadata": {
        "trusted": true,
        "dc": {
          "key": "52"
        },
        "tags": [
          "sample_code"
        ],
        "id": "gKyLhzUOqi4t",
        "colab_type": "code",
        "colab": {}
      },
      "source": [
        "# Subset only the hip-hop tracks, and then only the rock tracks\n",
        "hop_only = echo_tracks[echo_tracks.loc[:,'genre_top'] == 'Hip-Hop']\n",
        "rock_only = echo_tracks[echo_tracks.loc[:,'genre_top'] == 'Rock']\n",
        "\n",
        "# sample the rocks songs to be the same number as there are hip-hop songs\n",
        "rock_only = rock_only.sample(hop_only.shape[0], random_state = 10)\n",
        "\n",
        "# concatenate the dataframes rock_only and hop_only\n",
        "rock_hop_bal = pd.concat([rock_only, hop_only])\n",
        "\n",
        "# The features, labels, and pca projection are created for the balanced dataframe\n",
        "features = rock_hop_bal.drop(['genre_top', 'track_id'], axis=1) \n",
        "labels = rock_hop_bal['genre_top']\n",
        "pca_projection = pca.fit_transform(scaler.fit_transform(features))\n",
        "\n",
        "# Redefine the train and test set with the pca_projection from the balanced data\n",
        "train_features, test_features, train_labels, test_labels = train_test_split(pca_projection, labels, random_state=10)"
      ],
      "execution_count": 0,
      "outputs": []
    },
    {
      "cell_type": "markdown",
      "metadata": {
        "deletable": false,
        "run_control": {
          "frozen": true
        },
        "editable": false,
        "dc": {
          "key": "59"
        },
        "tags": [
          "context"
        ],
        "id": "Q3Yf6xlPqi4v",
        "colab_type": "text"
      },
      "source": [
        "##  Does balancing dataset improve model bias?"
      ]
    },
    {
      "cell_type": "code",
      "metadata": {
        "trusted": true,
        "dc": {
          "key": "59"
        },
        "tags": [
          "sample_code"
        ],
        "id": "tLYFoTOoqi4w",
        "colab_type": "code",
        "colab": {},
        "outputId": "344da94f-36fe-4e30-a471-11060a02098a"
      },
      "source": [
        "# Train decision tree on the balanced data\n",
        "tree = DecisionTreeClassifier(random_state = 10)\n",
        "tree.fit(train_features, train_labels)\n",
        "pred_labels_tree = tree.predict(test_features)\n",
        "\n",
        "# Train logistic regression on the balanced data\n",
        "logreg = LogisticRegression(random_state = 10)\n",
        "logreg.fit(train_features, train_labels)\n",
        "pred_labels_logit = logreg.predict(test_features)\n",
        "\n",
        "# Compare the models\n",
        "print(\"Decision Tree: \\n\", classification_report(test_labels, pred_labels_tree))\n",
        "print(\"Logistic Regression: \\n\", classification_report(test_labels, pred_labels_logit))"
      ],
      "execution_count": 0,
      "outputs": [
        {
          "output_type": "stream",
          "text": [
            "Decision Tree: \n",
            "              precision    recall  f1-score   support\n",
            "\n",
            "    Hip-Hop       0.77      0.77      0.77       230\n",
            "       Rock       0.76      0.76      0.76       225\n",
            "\n",
            "avg / total       0.76      0.76      0.76       455\n",
            "\n",
            "Logistic Regression: \n",
            "              precision    recall  f1-score   support\n",
            "\n",
            "    Hip-Hop       0.82      0.83      0.82       230\n",
            "       Rock       0.82      0.81      0.82       225\n",
            "\n",
            "avg / total       0.82      0.82      0.82       455\n",
            "\n"
          ],
          "name": "stdout"
        }
      ]
    },
    {
      "cell_type": "markdown",
      "metadata": {
        "deletable": false,
        "run_control": {
          "frozen": true
        },
        "editable": false,
        "dc": {
          "key": "66"
        },
        "tags": [
          "context"
        ],
        "id": "jvOOFjK0qi4z",
        "colab_type": "text"
      },
      "source": [
        "##  Using cross-validation to evaluate models\n"
      ]
    },
    {
      "cell_type": "code",
      "metadata": {
        "trusted": true,
        "dc": {
          "key": "66"
        },
        "tags": [
          "sample_code"
        ],
        "id": "LhWKGBUqqi4z",
        "colab_type": "code",
        "colab": {},
        "outputId": "d280c3ae-01cd-498a-d8f4-44f86db79d9c"
      },
      "source": [
        "# from sklearn.model_selection import KFold, cross_val_score\n",
        "from sklearn.model_selection import KFold, cross_val_score\n",
        "\n",
        "# Set up K-fold cross-validation\n",
        "kf = KFold(n_splits = 10, random_state = 10)\n",
        "\n",
        "tree = DecisionTreeClassifier(random_state=10)\n",
        "logreg = LogisticRegression(random_state=10)\n",
        "\n",
        "# Train models using KFold cv\n",
        "tree_score = cross_val_score(estimator = tree, X = pca_projection, y = labels, cv = kf)\n",
        "logit_score = cross_val_score(estimator = logreg, X = pca_projection, y = labels, cv = kf)\n",
        "\n",
        "# Print the mean of each array of scores\n",
        "print(\"Decision Tree:\", np.mean(tree_score), \"Logistic Regression:\", np.mean(logit_score))"
      ],
      "execution_count": 0,
      "outputs": [
        {
          "output_type": "stream",
          "text": [
            "Decision Tree: 0.7241758241758242 Logistic Regression: 0.7752747252747252\n"
          ],
          "name": "stdout"
        }
      ]
    }
  ]
}