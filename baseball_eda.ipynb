{
  "nbformat": 4,
  "nbformat_minor": 0,
  "metadata": {
    "kernelspec": {
      "name": "python3",
      "display_name": "Python 3",
      "language": "python"
    },
    "language_info": {
      "name": "python",
      "version": "3.6.7",
      "mimetype": "text/x-python",
      "codemirror_mode": {
        "name": "ipython",
        "version": 3
      },
      "pygments_lexer": "ipython3",
      "nbconvert_exporter": "python",
      "file_extension": ".py"
    },
    "colab": {
      "name": "baseball eda.ipynb",
      "provenance": [],
      "include_colab_link": true
    }
  },
  "cells": [
    {
      "cell_type": "markdown",
      "metadata": {
        "id": "view-in-github",
        "colab_type": "text"
      },
      "source": [
        "<a href=\"https://colab.research.google.com/github/caltunay/for_fun_EDAs/blob/master/baseball_eda.ipynb\" target=\"_parent\"><img src=\"https://colab.research.google.com/assets/colab-badge.svg\" alt=\"Open In Colab\"/></a>"
      ]
    },
    {
      "cell_type": "code",
      "metadata": {
        "id": "A0qh4Pimqcp_",
        "colab_type": "code",
        "colab": {
          "base_uri": "https://localhost:8080/",
          "height": 122
        },
        "outputId": "2ec9b628-ded3-4ef2-e70d-4e17f0074e29"
      },
      "source": [
        "from google.colab import drive\n",
        "drive.mount('/content/drive')"
      ],
      "execution_count": 2,
      "outputs": [
        {
          "output_type": "stream",
          "text": [
            "Go to this URL in a browser: https://accounts.google.com/o/oauth2/auth?client_id=947318989803-6bn6qk8qdgf4n4g3pfee6491hc0brc4i.apps.googleusercontent.com&redirect_uri=urn%3Aietf%3Awg%3Aoauth%3A2.0%3Aoob&scope=email%20https%3A%2F%2Fwww.googleapis.com%2Fauth%2Fdocs.test%20https%3A%2F%2Fwww.googleapis.com%2Fauth%2Fdrive%20https%3A%2F%2Fwww.googleapis.com%2Fauth%2Fdrive.photos.readonly%20https%3A%2F%2Fwww.googleapis.com%2Fauth%2Fpeopleapi.readonly&response_type=code\n",
            "\n",
            "Enter your authorization code:\n",
            "··········\n",
            "Mounted at /content/drive\n"
          ],
          "name": "stdout"
        }
      ]
    },
    {
      "cell_type": "code",
      "metadata": {
        "dc": {
          "key": "4"
        },
        "tags": [
          "sample_code"
        ],
        "trusted": true,
        "id": "KIO0JVdimg9C",
        "colab_type": "code",
        "colab": {}
      },
      "source": [
        "import pandas as pd\n",
        "import matplotlib.pyplot as plt\n",
        "import seaborn as sns\n",
        "%matplotlib inline\n",
        "\n",
        "# Load Aaron Judge's Statcast data\n",
        "judge = pd.read_csv('/content/drive/My Drive/Colab Notebooks/For fun EDAs/judge.csv')\n",
        "\n",
        "# Load Giancarlo Stanton's Statcast data\n",
        "stanton = pd.read_csv('/content/drive/My Drive/Colab Notebooks/For fun EDAs/stanton.csv')"
      ],
      "execution_count": 0,
      "outputs": []
    },
    {
      "cell_type": "markdown",
      "metadata": {
        "dc": {
          "key": "11"
        },
        "deletable": false,
        "editable": false,
        "run_control": {
          "frozen": true
        },
        "tags": [
          "context"
        ],
        "id": "cJ0jKWiwmg9H",
        "colab_type": "text"
      },
      "source": [
        "## 2. What can Statcast measure?\n",
        "\n",
        "<blockquote>\n",
        "  <p>Starting with the pitcher, Statcast can measure simple data points such as velocity. At the same time, Statcast digs a whole lot deeper, also measuring the release point and spin rate of every pitch.</p>\n",
        "  <p>Moving on to hitters, Statcast is capable of measuring the exit velocity, launch angle and vector of the ball as it comes off the bat. From there, Statcast can also track the hang time and projected distance that a ball travels.</p>\n",
        "</blockquote>"
      ]
    },
    {
      "cell_type": "code",
      "metadata": {
        "dc": {
          "key": "11"
        },
        "tags": [
          "sample_code"
        ],
        "trusted": true,
        "id": "hR1GLSqAmg9I",
        "colab_type": "code",
        "colab": {
          "base_uri": "https://localhost:8080/",
          "height": 394
        },
        "outputId": "125b926f-b9c9-4708-eb1a-defc38ccbfe3"
      },
      "source": [
        "# Display all columns \n",
        "# pd.set_option('display.max_columns', None)\n",
        "pd.set_option('display.max_columns', None)\n",
        "\n",
        "judge.tail()"
      ],
      "execution_count": 4,
      "outputs": [
        {
          "output_type": "execute_result",
          "data": {
            "text/html": [
              "<div>\n",
              "<style scoped>\n",
              "    .dataframe tbody tr th:only-of-type {\n",
              "        vertical-align: middle;\n",
              "    }\n",
              "\n",
              "    .dataframe tbody tr th {\n",
              "        vertical-align: top;\n",
              "    }\n",
              "\n",
              "    .dataframe thead th {\n",
              "        text-align: right;\n",
              "    }\n",
              "</style>\n",
              "<table border=\"1\" class=\"dataframe\">\n",
              "  <thead>\n",
              "    <tr style=\"text-align: right;\">\n",
              "      <th></th>\n",
              "      <th>pitch_type</th>\n",
              "      <th>game_date</th>\n",
              "      <th>release_speed</th>\n",
              "      <th>release_pos_x</th>\n",
              "      <th>release_pos_z</th>\n",
              "      <th>player_name</th>\n",
              "      <th>batter</th>\n",
              "      <th>pitcher</th>\n",
              "      <th>events</th>\n",
              "      <th>description</th>\n",
              "      <th>spin_dir</th>\n",
              "      <th>spin_rate_deprecated</th>\n",
              "      <th>break_angle_deprecated</th>\n",
              "      <th>break_length_deprecated</th>\n",
              "      <th>zone</th>\n",
              "      <th>des</th>\n",
              "      <th>game_type</th>\n",
              "      <th>stand</th>\n",
              "      <th>p_throws</th>\n",
              "      <th>home_team</th>\n",
              "      <th>away_team</th>\n",
              "      <th>type</th>\n",
              "      <th>hit_location</th>\n",
              "      <th>bb_type</th>\n",
              "      <th>balls</th>\n",
              "      <th>strikes</th>\n",
              "      <th>game_year</th>\n",
              "      <th>pfx_x</th>\n",
              "      <th>pfx_z</th>\n",
              "      <th>plate_x</th>\n",
              "      <th>plate_z</th>\n",
              "      <th>on_3b</th>\n",
              "      <th>on_2b</th>\n",
              "      <th>on_1b</th>\n",
              "      <th>outs_when_up</th>\n",
              "      <th>inning</th>\n",
              "      <th>inning_topbot</th>\n",
              "      <th>hc_x</th>\n",
              "      <th>hc_y</th>\n",
              "      <th>tfs_deprecated</th>\n",
              "      <th>tfs_zulu_deprecated</th>\n",
              "      <th>pos2_person_id</th>\n",
              "      <th>umpire</th>\n",
              "      <th>sv_id</th>\n",
              "      <th>vx0</th>\n",
              "      <th>vy0</th>\n",
              "      <th>vz0</th>\n",
              "      <th>ax</th>\n",
              "      <th>ay</th>\n",
              "      <th>az</th>\n",
              "      <th>sz_top</th>\n",
              "      <th>sz_bot</th>\n",
              "      <th>hit_distance_sc</th>\n",
              "      <th>launch_speed</th>\n",
              "      <th>launch_angle</th>\n",
              "      <th>effective_speed</th>\n",
              "      <th>release_spin_rate</th>\n",
              "      <th>release_extension</th>\n",
              "      <th>game_pk</th>\n",
              "      <th>pos1_person_id</th>\n",
              "      <th>pos2_person_id.1</th>\n",
              "      <th>pos3_person_id</th>\n",
              "      <th>pos4_person_id</th>\n",
              "      <th>pos5_person_id</th>\n",
              "      <th>pos6_person_id</th>\n",
              "      <th>pos7_person_id</th>\n",
              "      <th>pos8_person_id</th>\n",
              "      <th>pos9_person_id</th>\n",
              "      <th>release_pos_y</th>\n",
              "      <th>estimated_ba_using_speedangle</th>\n",
              "      <th>estimated_woba_using_speedangle</th>\n",
              "      <th>woba_value</th>\n",
              "      <th>woba_denom</th>\n",
              "      <th>babip_value</th>\n",
              "      <th>iso_value</th>\n",
              "      <th>launch_speed_angle</th>\n",
              "      <th>at_bat_number</th>\n",
              "      <th>pitch_number</th>\n",
              "    </tr>\n",
              "  </thead>\n",
              "  <tbody>\n",
              "    <tr>\n",
              "      <th>3431</th>\n",
              "      <td>CH</td>\n",
              "      <td>2016-08-13</td>\n",
              "      <td>85.6</td>\n",
              "      <td>-1.9659</td>\n",
              "      <td>5.9113</td>\n",
              "      <td>Aaron Judge</td>\n",
              "      <td>592450</td>\n",
              "      <td>542882</td>\n",
              "      <td>NaN</td>\n",
              "      <td>ball</td>\n",
              "      <td>NaN</td>\n",
              "      <td>NaN</td>\n",
              "      <td>NaN</td>\n",
              "      <td>NaN</td>\n",
              "      <td>14.0</td>\n",
              "      <td>NaN</td>\n",
              "      <td>R</td>\n",
              "      <td>R</td>\n",
              "      <td>R</td>\n",
              "      <td>NYY</td>\n",
              "      <td>TB</td>\n",
              "      <td>B</td>\n",
              "      <td>NaN</td>\n",
              "      <td>NaN</td>\n",
              "      <td>0</td>\n",
              "      <td>0</td>\n",
              "      <td>2016</td>\n",
              "      <td>-0.379108</td>\n",
              "      <td>0.370567</td>\n",
              "      <td>0.739</td>\n",
              "      <td>1.442</td>\n",
              "      <td>NaN</td>\n",
              "      <td>NaN</td>\n",
              "      <td>NaN</td>\n",
              "      <td>0</td>\n",
              "      <td>5</td>\n",
              "      <td>Bot</td>\n",
              "      <td>NaN</td>\n",
              "      <td>NaN</td>\n",
              "      <td>NaN</td>\n",
              "      <td>NaN</td>\n",
              "      <td>571912.0</td>\n",
              "      <td>NaN</td>\n",
              "      <td>160813_144259</td>\n",
              "      <td>6.960</td>\n",
              "      <td>-124.371</td>\n",
              "      <td>-4.756</td>\n",
              "      <td>-2.821</td>\n",
              "      <td>23.634</td>\n",
              "      <td>-30.220</td>\n",
              "      <td>3.93</td>\n",
              "      <td>1.82</td>\n",
              "      <td>NaN</td>\n",
              "      <td>NaN</td>\n",
              "      <td>NaN</td>\n",
              "      <td>84.459</td>\n",
              "      <td>1552.0</td>\n",
              "      <td>5.683</td>\n",
              "      <td>448611</td>\n",
              "      <td>542882.0</td>\n",
              "      <td>571912.0</td>\n",
              "      <td>543543.0</td>\n",
              "      <td>523253.0</td>\n",
              "      <td>446334.0</td>\n",
              "      <td>622110.0</td>\n",
              "      <td>545338.0</td>\n",
              "      <td>595281.0</td>\n",
              "      <td>543484.0</td>\n",
              "      <td>54.8144</td>\n",
              "      <td>0.00</td>\n",
              "      <td>0.000</td>\n",
              "      <td>NaN</td>\n",
              "      <td>NaN</td>\n",
              "      <td>NaN</td>\n",
              "      <td>NaN</td>\n",
              "      <td>NaN</td>\n",
              "      <td>36</td>\n",
              "      <td>1</td>\n",
              "    </tr>\n",
              "    <tr>\n",
              "      <th>3432</th>\n",
              "      <td>CH</td>\n",
              "      <td>2016-08-13</td>\n",
              "      <td>87.6</td>\n",
              "      <td>-1.9318</td>\n",
              "      <td>5.9349</td>\n",
              "      <td>Aaron Judge</td>\n",
              "      <td>592450</td>\n",
              "      <td>542882</td>\n",
              "      <td>home_run</td>\n",
              "      <td>hit_into_play_score</td>\n",
              "      <td>NaN</td>\n",
              "      <td>NaN</td>\n",
              "      <td>NaN</td>\n",
              "      <td>NaN</td>\n",
              "      <td>4.0</td>\n",
              "      <td>Aaron Judge homers (1) on a fly ball to center...</td>\n",
              "      <td>R</td>\n",
              "      <td>R</td>\n",
              "      <td>R</td>\n",
              "      <td>NYY</td>\n",
              "      <td>TB</td>\n",
              "      <td>X</td>\n",
              "      <td>NaN</td>\n",
              "      <td>fly_ball</td>\n",
              "      <td>1</td>\n",
              "      <td>2</td>\n",
              "      <td>2016</td>\n",
              "      <td>-0.295608</td>\n",
              "      <td>0.320400</td>\n",
              "      <td>-0.419</td>\n",
              "      <td>3.273</td>\n",
              "      <td>NaN</td>\n",
              "      <td>NaN</td>\n",
              "      <td>NaN</td>\n",
              "      <td>2</td>\n",
              "      <td>2</td>\n",
              "      <td>Bot</td>\n",
              "      <td>130.45</td>\n",
              "      <td>14.58</td>\n",
              "      <td>NaN</td>\n",
              "      <td>NaN</td>\n",
              "      <td>571912.0</td>\n",
              "      <td>NaN</td>\n",
              "      <td>160813_135833</td>\n",
              "      <td>4.287</td>\n",
              "      <td>-127.452</td>\n",
              "      <td>-0.882</td>\n",
              "      <td>-1.972</td>\n",
              "      <td>24.694</td>\n",
              "      <td>-30.705</td>\n",
              "      <td>4.01</td>\n",
              "      <td>1.82</td>\n",
              "      <td>446.0</td>\n",
              "      <td>108.8</td>\n",
              "      <td>27.410</td>\n",
              "      <td>86.412</td>\n",
              "      <td>1947.0</td>\n",
              "      <td>5.691</td>\n",
              "      <td>448611</td>\n",
              "      <td>542882.0</td>\n",
              "      <td>571912.0</td>\n",
              "      <td>543543.0</td>\n",
              "      <td>523253.0</td>\n",
              "      <td>446334.0</td>\n",
              "      <td>622110.0</td>\n",
              "      <td>545338.0</td>\n",
              "      <td>595281.0</td>\n",
              "      <td>543484.0</td>\n",
              "      <td>54.8064</td>\n",
              "      <td>0.98</td>\n",
              "      <td>1.937</td>\n",
              "      <td>2.0</td>\n",
              "      <td>1.0</td>\n",
              "      <td>0.0</td>\n",
              "      <td>3.0</td>\n",
              "      <td>6.0</td>\n",
              "      <td>14</td>\n",
              "      <td>4</td>\n",
              "    </tr>\n",
              "    <tr>\n",
              "      <th>3433</th>\n",
              "      <td>CH</td>\n",
              "      <td>2016-08-13</td>\n",
              "      <td>87.2</td>\n",
              "      <td>-2.0285</td>\n",
              "      <td>5.8656</td>\n",
              "      <td>Aaron Judge</td>\n",
              "      <td>592450</td>\n",
              "      <td>542882</td>\n",
              "      <td>NaN</td>\n",
              "      <td>ball</td>\n",
              "      <td>NaN</td>\n",
              "      <td>NaN</td>\n",
              "      <td>NaN</td>\n",
              "      <td>NaN</td>\n",
              "      <td>14.0</td>\n",
              "      <td>NaN</td>\n",
              "      <td>R</td>\n",
              "      <td>R</td>\n",
              "      <td>R</td>\n",
              "      <td>NYY</td>\n",
              "      <td>TB</td>\n",
              "      <td>B</td>\n",
              "      <td>NaN</td>\n",
              "      <td>NaN</td>\n",
              "      <td>0</td>\n",
              "      <td>2</td>\n",
              "      <td>2016</td>\n",
              "      <td>-0.668575</td>\n",
              "      <td>0.198567</td>\n",
              "      <td>0.561</td>\n",
              "      <td>0.960</td>\n",
              "      <td>NaN</td>\n",
              "      <td>NaN</td>\n",
              "      <td>NaN</td>\n",
              "      <td>2</td>\n",
              "      <td>2</td>\n",
              "      <td>Bot</td>\n",
              "      <td>NaN</td>\n",
              "      <td>NaN</td>\n",
              "      <td>NaN</td>\n",
              "      <td>NaN</td>\n",
              "      <td>571912.0</td>\n",
              "      <td>NaN</td>\n",
              "      <td>160813_135815</td>\n",
              "      <td>7.491</td>\n",
              "      <td>-126.665</td>\n",
              "      <td>-5.862</td>\n",
              "      <td>-6.393</td>\n",
              "      <td>21.952</td>\n",
              "      <td>-32.121</td>\n",
              "      <td>4.01</td>\n",
              "      <td>1.82</td>\n",
              "      <td>NaN</td>\n",
              "      <td>NaN</td>\n",
              "      <td>NaN</td>\n",
              "      <td>86.368</td>\n",
              "      <td>1761.0</td>\n",
              "      <td>5.721</td>\n",
              "      <td>448611</td>\n",
              "      <td>542882.0</td>\n",
              "      <td>571912.0</td>\n",
              "      <td>543543.0</td>\n",
              "      <td>523253.0</td>\n",
              "      <td>446334.0</td>\n",
              "      <td>622110.0</td>\n",
              "      <td>545338.0</td>\n",
              "      <td>595281.0</td>\n",
              "      <td>543484.0</td>\n",
              "      <td>54.7770</td>\n",
              "      <td>0.00</td>\n",
              "      <td>0.000</td>\n",
              "      <td>NaN</td>\n",
              "      <td>NaN</td>\n",
              "      <td>NaN</td>\n",
              "      <td>NaN</td>\n",
              "      <td>NaN</td>\n",
              "      <td>14</td>\n",
              "      <td>3</td>\n",
              "    </tr>\n",
              "    <tr>\n",
              "      <th>3434</th>\n",
              "      <td>CU</td>\n",
              "      <td>2016-08-13</td>\n",
              "      <td>79.7</td>\n",
              "      <td>-1.7108</td>\n",
              "      <td>6.1926</td>\n",
              "      <td>Aaron Judge</td>\n",
              "      <td>592450</td>\n",
              "      <td>542882</td>\n",
              "      <td>NaN</td>\n",
              "      <td>foul</td>\n",
              "      <td>NaN</td>\n",
              "      <td>NaN</td>\n",
              "      <td>NaN</td>\n",
              "      <td>NaN</td>\n",
              "      <td>4.0</td>\n",
              "      <td>NaN</td>\n",
              "      <td>R</td>\n",
              "      <td>R</td>\n",
              "      <td>R</td>\n",
              "      <td>NYY</td>\n",
              "      <td>TB</td>\n",
              "      <td>S</td>\n",
              "      <td>NaN</td>\n",
              "      <td>NaN</td>\n",
              "      <td>0</td>\n",
              "      <td>1</td>\n",
              "      <td>2016</td>\n",
              "      <td>0.397442</td>\n",
              "      <td>-0.614133</td>\n",
              "      <td>-0.803</td>\n",
              "      <td>2.742</td>\n",
              "      <td>NaN</td>\n",
              "      <td>NaN</td>\n",
              "      <td>NaN</td>\n",
              "      <td>2</td>\n",
              "      <td>2</td>\n",
              "      <td>Bot</td>\n",
              "      <td>NaN</td>\n",
              "      <td>NaN</td>\n",
              "      <td>NaN</td>\n",
              "      <td>NaN</td>\n",
              "      <td>571912.0</td>\n",
              "      <td>NaN</td>\n",
              "      <td>160813_135752</td>\n",
              "      <td>1.254</td>\n",
              "      <td>-116.062</td>\n",
              "      <td>0.439</td>\n",
              "      <td>5.184</td>\n",
              "      <td>21.328</td>\n",
              "      <td>-39.866</td>\n",
              "      <td>4.01</td>\n",
              "      <td>1.82</td>\n",
              "      <td>9.0</td>\n",
              "      <td>55.8</td>\n",
              "      <td>-24.973</td>\n",
              "      <td>77.723</td>\n",
              "      <td>2640.0</td>\n",
              "      <td>5.022</td>\n",
              "      <td>448611</td>\n",
              "      <td>542882.0</td>\n",
              "      <td>571912.0</td>\n",
              "      <td>543543.0</td>\n",
              "      <td>523253.0</td>\n",
              "      <td>446334.0</td>\n",
              "      <td>622110.0</td>\n",
              "      <td>545338.0</td>\n",
              "      <td>595281.0</td>\n",
              "      <td>543484.0</td>\n",
              "      <td>55.4756</td>\n",
              "      <td>0.00</td>\n",
              "      <td>0.000</td>\n",
              "      <td>NaN</td>\n",
              "      <td>NaN</td>\n",
              "      <td>NaN</td>\n",
              "      <td>NaN</td>\n",
              "      <td>1.0</td>\n",
              "      <td>14</td>\n",
              "      <td>2</td>\n",
              "    </tr>\n",
              "    <tr>\n",
              "      <th>3435</th>\n",
              "      <td>FF</td>\n",
              "      <td>2016-08-13</td>\n",
              "      <td>93.2</td>\n",
              "      <td>-1.8476</td>\n",
              "      <td>6.0063</td>\n",
              "      <td>Aaron Judge</td>\n",
              "      <td>592450</td>\n",
              "      <td>542882</td>\n",
              "      <td>NaN</td>\n",
              "      <td>called_strike</td>\n",
              "      <td>NaN</td>\n",
              "      <td>NaN</td>\n",
              "      <td>NaN</td>\n",
              "      <td>NaN</td>\n",
              "      <td>8.0</td>\n",
              "      <td>NaN</td>\n",
              "      <td>R</td>\n",
              "      <td>R</td>\n",
              "      <td>R</td>\n",
              "      <td>NYY</td>\n",
              "      <td>TB</td>\n",
              "      <td>S</td>\n",
              "      <td>NaN</td>\n",
              "      <td>NaN</td>\n",
              "      <td>0</td>\n",
              "      <td>0</td>\n",
              "      <td>2016</td>\n",
              "      <td>-0.823050</td>\n",
              "      <td>1.623300</td>\n",
              "      <td>-0.273</td>\n",
              "      <td>2.471</td>\n",
              "      <td>NaN</td>\n",
              "      <td>NaN</td>\n",
              "      <td>NaN</td>\n",
              "      <td>2</td>\n",
              "      <td>2</td>\n",
              "      <td>Bot</td>\n",
              "      <td>NaN</td>\n",
              "      <td>NaN</td>\n",
              "      <td>NaN</td>\n",
              "      <td>NaN</td>\n",
              "      <td>571912.0</td>\n",
              "      <td>NaN</td>\n",
              "      <td>160813_135736</td>\n",
              "      <td>5.994</td>\n",
              "      <td>-135.497</td>\n",
              "      <td>-6.736</td>\n",
              "      <td>-9.360</td>\n",
              "      <td>26.782</td>\n",
              "      <td>-13.446</td>\n",
              "      <td>4.01</td>\n",
              "      <td>1.82</td>\n",
              "      <td>NaN</td>\n",
              "      <td>NaN</td>\n",
              "      <td>NaN</td>\n",
              "      <td>92.696</td>\n",
              "      <td>2271.0</td>\n",
              "      <td>6.068</td>\n",
              "      <td>448611</td>\n",
              "      <td>542882.0</td>\n",
              "      <td>571912.0</td>\n",
              "      <td>543543.0</td>\n",
              "      <td>523253.0</td>\n",
              "      <td>446334.0</td>\n",
              "      <td>622110.0</td>\n",
              "      <td>545338.0</td>\n",
              "      <td>595281.0</td>\n",
              "      <td>543484.0</td>\n",
              "      <td>54.4299</td>\n",
              "      <td>0.00</td>\n",
              "      <td>0.000</td>\n",
              "      <td>NaN</td>\n",
              "      <td>NaN</td>\n",
              "      <td>NaN</td>\n",
              "      <td>NaN</td>\n",
              "      <td>NaN</td>\n",
              "      <td>14</td>\n",
              "      <td>1</td>\n",
              "    </tr>\n",
              "  </tbody>\n",
              "</table>\n",
              "</div>"
            ],
            "text/plain": [
              "     pitch_type   game_date  release_speed  release_pos_x  release_pos_z  \\\n",
              "3431         CH  2016-08-13           85.6        -1.9659         5.9113   \n",
              "3432         CH  2016-08-13           87.6        -1.9318         5.9349   \n",
              "3433         CH  2016-08-13           87.2        -2.0285         5.8656   \n",
              "3434         CU  2016-08-13           79.7        -1.7108         6.1926   \n",
              "3435         FF  2016-08-13           93.2        -1.8476         6.0063   \n",
              "\n",
              "      player_name  batter  pitcher    events          description  spin_dir  \\\n",
              "3431  Aaron Judge  592450   542882       NaN                 ball       NaN   \n",
              "3432  Aaron Judge  592450   542882  home_run  hit_into_play_score       NaN   \n",
              "3433  Aaron Judge  592450   542882       NaN                 ball       NaN   \n",
              "3434  Aaron Judge  592450   542882       NaN                 foul       NaN   \n",
              "3435  Aaron Judge  592450   542882       NaN        called_strike       NaN   \n",
              "\n",
              "      spin_rate_deprecated  break_angle_deprecated  break_length_deprecated  \\\n",
              "3431                   NaN                     NaN                      NaN   \n",
              "3432                   NaN                     NaN                      NaN   \n",
              "3433                   NaN                     NaN                      NaN   \n",
              "3434                   NaN                     NaN                      NaN   \n",
              "3435                   NaN                     NaN                      NaN   \n",
              "\n",
              "      zone                                                des game_type stand  \\\n",
              "3431  14.0                                                NaN         R     R   \n",
              "3432   4.0  Aaron Judge homers (1) on a fly ball to center...         R     R   \n",
              "3433  14.0                                                NaN         R     R   \n",
              "3434   4.0                                                NaN         R     R   \n",
              "3435   8.0                                                NaN         R     R   \n",
              "\n",
              "     p_throws home_team away_team type  hit_location   bb_type  balls  \\\n",
              "3431        R       NYY        TB    B           NaN       NaN      0   \n",
              "3432        R       NYY        TB    X           NaN  fly_ball      1   \n",
              "3433        R       NYY        TB    B           NaN       NaN      0   \n",
              "3434        R       NYY        TB    S           NaN       NaN      0   \n",
              "3435        R       NYY        TB    S           NaN       NaN      0   \n",
              "\n",
              "      strikes  game_year     pfx_x     pfx_z  plate_x  plate_z  on_3b  on_2b  \\\n",
              "3431        0       2016 -0.379108  0.370567    0.739    1.442    NaN    NaN   \n",
              "3432        2       2016 -0.295608  0.320400   -0.419    3.273    NaN    NaN   \n",
              "3433        2       2016 -0.668575  0.198567    0.561    0.960    NaN    NaN   \n",
              "3434        1       2016  0.397442 -0.614133   -0.803    2.742    NaN    NaN   \n",
              "3435        0       2016 -0.823050  1.623300   -0.273    2.471    NaN    NaN   \n",
              "\n",
              "      on_1b  outs_when_up  inning inning_topbot    hc_x   hc_y  \\\n",
              "3431    NaN             0       5           Bot     NaN    NaN   \n",
              "3432    NaN             2       2           Bot  130.45  14.58   \n",
              "3433    NaN             2       2           Bot     NaN    NaN   \n",
              "3434    NaN             2       2           Bot     NaN    NaN   \n",
              "3435    NaN             2       2           Bot     NaN    NaN   \n",
              "\n",
              "      tfs_deprecated  tfs_zulu_deprecated  pos2_person_id  umpire  \\\n",
              "3431             NaN                  NaN        571912.0     NaN   \n",
              "3432             NaN                  NaN        571912.0     NaN   \n",
              "3433             NaN                  NaN        571912.0     NaN   \n",
              "3434             NaN                  NaN        571912.0     NaN   \n",
              "3435             NaN                  NaN        571912.0     NaN   \n",
              "\n",
              "              sv_id    vx0      vy0    vz0     ax      ay      az  sz_top  \\\n",
              "3431  160813_144259  6.960 -124.371 -4.756 -2.821  23.634 -30.220    3.93   \n",
              "3432  160813_135833  4.287 -127.452 -0.882 -1.972  24.694 -30.705    4.01   \n",
              "3433  160813_135815  7.491 -126.665 -5.862 -6.393  21.952 -32.121    4.01   \n",
              "3434  160813_135752  1.254 -116.062  0.439  5.184  21.328 -39.866    4.01   \n",
              "3435  160813_135736  5.994 -135.497 -6.736 -9.360  26.782 -13.446    4.01   \n",
              "\n",
              "      sz_bot  hit_distance_sc  launch_speed  launch_angle  effective_speed  \\\n",
              "3431    1.82              NaN           NaN           NaN           84.459   \n",
              "3432    1.82            446.0         108.8        27.410           86.412   \n",
              "3433    1.82              NaN           NaN           NaN           86.368   \n",
              "3434    1.82              9.0          55.8       -24.973           77.723   \n",
              "3435    1.82              NaN           NaN           NaN           92.696   \n",
              "\n",
              "      release_spin_rate  release_extension  game_pk  pos1_person_id  \\\n",
              "3431             1552.0              5.683   448611        542882.0   \n",
              "3432             1947.0              5.691   448611        542882.0   \n",
              "3433             1761.0              5.721   448611        542882.0   \n",
              "3434             2640.0              5.022   448611        542882.0   \n",
              "3435             2271.0              6.068   448611        542882.0   \n",
              "\n",
              "      pos2_person_id.1  pos3_person_id  pos4_person_id  pos5_person_id  \\\n",
              "3431          571912.0        543543.0        523253.0        446334.0   \n",
              "3432          571912.0        543543.0        523253.0        446334.0   \n",
              "3433          571912.0        543543.0        523253.0        446334.0   \n",
              "3434          571912.0        543543.0        523253.0        446334.0   \n",
              "3435          571912.0        543543.0        523253.0        446334.0   \n",
              "\n",
              "      pos6_person_id  pos7_person_id  pos8_person_id  pos9_person_id  \\\n",
              "3431        622110.0        545338.0        595281.0        543484.0   \n",
              "3432        622110.0        545338.0        595281.0        543484.0   \n",
              "3433        622110.0        545338.0        595281.0        543484.0   \n",
              "3434        622110.0        545338.0        595281.0        543484.0   \n",
              "3435        622110.0        545338.0        595281.0        543484.0   \n",
              "\n",
              "      release_pos_y  estimated_ba_using_speedangle  \\\n",
              "3431        54.8144                           0.00   \n",
              "3432        54.8064                           0.98   \n",
              "3433        54.7770                           0.00   \n",
              "3434        55.4756                           0.00   \n",
              "3435        54.4299                           0.00   \n",
              "\n",
              "      estimated_woba_using_speedangle  woba_value  woba_denom  babip_value  \\\n",
              "3431                            0.000         NaN         NaN          NaN   \n",
              "3432                            1.937         2.0         1.0          0.0   \n",
              "3433                            0.000         NaN         NaN          NaN   \n",
              "3434                            0.000         NaN         NaN          NaN   \n",
              "3435                            0.000         NaN         NaN          NaN   \n",
              "\n",
              "      iso_value  launch_speed_angle  at_bat_number  pitch_number  \n",
              "3431        NaN                 NaN             36             1  \n",
              "3432        3.0                 6.0             14             4  \n",
              "3433        NaN                 NaN             14             3  \n",
              "3434        NaN                 1.0             14             2  \n",
              "3435        NaN                 NaN             14             1  "
            ]
          },
          "metadata": {
            "tags": []
          },
          "execution_count": 4
        }
      ]
    },
    {
      "cell_type": "markdown",
      "metadata": {
        "dc": {
          "key": "18"
        },
        "deletable": false,
        "editable": false,
        "run_control": {
          "frozen": true
        },
        "tags": [
          "context"
        ],
        "id": "w3kFcIaNmg9M",
        "colab_type": "text"
      },
      "source": [
        "## 3. Aaron Judge and Giancarlo Stanton, prolific sluggers\n",
        "<p><img style=\"float: left;margin:5px 20px 5px 1px\" src=\"https://tinyurl.com/x67fty9\"></p>\n",
        "<p>This is Giancarlo Stanton. He is also a very large human being, standing 6 feet 6 inches tall and weighing 245 pounds. Despite not wearing the same jersey as Judge in the pictures provided, in 2018 they will be teammates on the New York Yankees. They are similar in a lot of ways, one being that they hit a lot of home runs. Stanton and Judge led baseball in home runs in 2017, with <a href=\"https://www.youtube.com/watch?v=tJ6Bz5P6dg4\">59</a> and <a href=\"https://www.youtube.com/watch?v=Gw3pFHMM9fk\">52</a>, respectively. These are exceptional totals - the player in third \"only\" had 45 home runs.</p>\n",
        "<p>Stanton and Judge are also different in many ways. One is <a href=\"http://m.mlb.com/glossary/statcast/batted-ball-event\">batted ball events</a>, which is any batted ball that produces a result. This includes outs, hits, and errors. Next, you'll find the counts of batted ball events for each player in 2017. The frequencies of other events are quite different.</p>"
      ]
    },
    {
      "cell_type": "code",
      "metadata": {
        "dc": {
          "key": "18"
        },
        "tags": [
          "sample_code"
        ],
        "trusted": true,
        "id": "XqGVn7wCmg9N",
        "colab_type": "code",
        "colab": {}
      },
      "source": [
        "# All of Aaron Judge's batted ball events in 2017\n",
        "judge_events_2017 = judge[judge['game_year'] == 2017]['events']\n",
        "print(\"Aaron Judge batted ball event totals, 2017:\")\n",
        "print(judge_events_2017.value_counts())\n",
        "\n",
        "# All of Giancarlo Stanton's batted ball events in 2017\n",
        "stanton_events_2017 = stanton[stanton['game_year'] == 2017]['events']\n",
        "print(\"\\nGiancarlo Stanton batted ball event totals, 2017:\")\n",
        "print(stanton_events_2017.value_counts())"
      ],
      "execution_count": 0,
      "outputs": []
    },
    {
      "cell_type": "markdown",
      "metadata": {
        "dc": {
          "key": "25"
        },
        "deletable": false,
        "editable": false,
        "run_control": {
          "frozen": true
        },
        "tags": [
          "context"
        ],
        "id": "gD7uA5qymg9Q",
        "colab_type": "text"
      },
      "source": [
        "## 4. Analyzing home runs with Statcast data\n",
        "<p>So Judge walks and strikes out more than Stanton. Stanton flies out more than Judge. But let's get into their hitting profiles in more detail. Two of the most groundbreaking Statcast metrics are launch angle and exit velocity:</p>\n",
        "<ul>\n",
        "<li><a href=\"http://m.mlb.com/glossary/statcast/launch-angle\">Launch angle</a>: the vertical angle at which the ball leaves a player's bat</li>\n",
        "<li><a href=\"http://m.mlb.com/glossary/statcast/exit-velocity\">Exit velocity</a>: the speed of the baseball as it comes off the bat</li>\n",
        "</ul>\n",
        "<p>This new data has changed the way teams value both hitters and pitchers. Why? As per the <a href=\"https://www.washingtonpost.com/graphics/sports/mlb-launch-angles-story/?utm_term=.8d088d31f098\">Washington Post</a>:</p>\n",
        "<blockquote>\n",
        "  <p>Balls hit with a high launch angle are more likely to result in a hit. Hit fast enough and at the right angle, they become home runs.</p>\n",
        "</blockquote>\n",
        "<p>Let's look at exit velocity vs. launch angle and let's focus on home runs only (2015-2017). The first two plots show data points. The second two show smoothed contours to represent density.</p>"
      ]
    },
    {
      "cell_type": "code",
      "metadata": {
        "dc": {
          "key": "25"
        },
        "tags": [
          "sample_code"
        ],
        "trusted": true,
        "scrolled": false,
        "id": "s8uKTbQsmg9Q",
        "colab_type": "code",
        "colab": {
          "base_uri": "https://localhost:8080/",
          "height": 622
        },
        "outputId": "67c4a6c4-b6fa-4745-cf41-27c30e32731d"
      },
      "source": [
        "# Filter to include home runs only\n",
        "judge_hr = judge[judge['events'] == 'home_run']\n",
        "stanton_hr = stanton[stanton['events'] == 'home_run']\n",
        "\n",
        "# column name reminder -  launch_angle - launch_speed \n",
        "\n",
        "# Create a figure with two scatter plots of launch speed vs. launch angle, one for each player's home runs\n",
        "fig1, axs1 = plt.subplots(ncols=2, sharex=True, sharey=True)\n",
        "\n",
        "sns.regplot(x='launch_angle', y='launch_speed', fit_reg=False, color='tab:blue', data=judge_hr, ax=axs1[0]).set_title('Aaron Judge\\nHome Runs, 2015-2017')\n",
        "sns.regplot(x='launch_angle', y='launch_speed', fit_reg=False, color='tab:blue', data=stanton_hr, ax=axs1[1]).set_title('Giancarlo Stanton\\nHome Runs, 2015-2017')\n",
        "\n",
        "# Create a figure with two KDE plots of launch speed vs. launch angle, one for each player's home runs\n",
        "fig2, axs2 = plt.subplots(ncols=2, sharex=True, sharey=True)\n",
        "sns.kdeplot(data=judge_hr['launch_angle'], data2=judge_hr['launch_speed'], cmap=\"Blues\", shade=True, shade_lowest=False, ax=axs2[0]).set_title('Aaron Judge\\nHome Runs, 2015-2017')\n",
        "sns.kdeplot(data=stanton_hr['launch_angle'], data2 = stanton_hr['launch_speed'], cmap=\"Blues\", shade=True, shade_lowest=False, ax=axs2[1]).set_title('Giancarlo Stanton\\nHome Runs, 2015-2017')"
      ],
      "execution_count": 5,
      "outputs": [
        {
          "output_type": "execute_result",
          "data": {
            "text/plain": [
              "Text(0.5, 1.0, 'Giancarlo Stanton\\nHome Runs, 2015-2017')"
            ]
          },
          "metadata": {
            "tags": []
          },
          "execution_count": 5
        },
        {
          "output_type": "display_data",
          "data": {
            "image/png": "[encoded data removed]",
            "text/plain": [
              "<Figure size 432x288 with 2 Axes>"
            ]
          },
          "metadata": {
            "tags": []
          }
        },
        {
          "output_type": "display_data",
          "data": {
            "image/png": "[encoded data removed]",
            "text/plain": [
              "<Figure size 432x288 with 2 Axes>"
            ]
          },
          "metadata": {
            "tags": []
          }
        }
      ]
    },
    {
      "cell_type": "markdown",
      "metadata": {
        "dc": {
          "key": "32"
        },
        "deletable": false,
        "editable": false,
        "run_control": {
          "frozen": true
        },
        "tags": [
          "context"
        ],
        "id": "Yt8jM9qymg9T",
        "colab_type": "text"
      },
      "source": [
        "## 5. Home runs by pitch velocity\n",
        "<p>It appears that Stanton hits his home runs slightly lower and slightly harder than Judge, though this needs to be taken with a grain of salt given the small sample size of home runs.</p>\n",
        "<p>Not only does Statcast measure the velocity of the ball coming off of the bat, it measures the velocity of the ball coming out of the pitcher's hand and begins its journey towards the plate. We can use this data to compare Stanton and Judge's home runs in terms of pitch velocity. Next you'll find box plots displaying the five-number summaries for each player: minimum, first quartile, median, third quartile, and maximum.</p>"
      ]
    },
    {
      "cell_type": "code",
      "metadata": {
        "dc": {
          "key": "32"
        },
        "tags": [
          "sample_code"
        ],
        "trusted": true,
        "id": "u3oU12DGmg9U",
        "colab_type": "code",
        "colab": {
          "base_uri": "https://localhost:8080/",
          "height": 313
        },
        "outputId": "e7680398-d628-498a-8734-8a3d643523f6"
      },
      "source": [
        "# Combine the Judge and Stanton home run DataFrames for easy boxplot plotting\n",
        "judge_stanton_hr = pd.concat([judge_hr, stanton_hr], axis = 0)\n",
        "\n",
        "# Create a boxplot that describes the pitch velocity of each player's home runs\n",
        "sns.boxplot(x = 'player_name', data = judge_stanton_hr, y = 'release_speed').set_title('Home Runs, 2015-2017')"
      ],
      "execution_count": 6,
      "outputs": [
        {
          "output_type": "execute_result",
          "data": {
            "text/plain": [
              "Text(0.5, 1.0, 'Home Runs, 2015-2017')"
            ]
          },
          "metadata": {
            "tags": []
          },
          "execution_count": 6
        },
        {
          "output_type": "display_data",
          "data": {
            "image/png": "[encoded data removed]",
            "text/plain": [
              "<Figure size 432x288 with 1 Axes>"
            ]
          },
          "metadata": {
            "tags": []
          }
        }
      ]
    },
    {
      "cell_type": "markdown",
      "metadata": {
        "dc": {
          "key": "39"
        },
        "deletable": false,
        "editable": false,
        "run_control": {
          "frozen": true
        },
        "tags": [
          "context"
        ],
        "id": "oMiQIGwRmg9X",
        "colab_type": "text"
      },
      "source": [
        "## 6. Home runs by pitch location (I)\n",
        "<p>So Judge appears to hit his home runs off of faster pitches than Stanton. We might call Judge a fastball hitter. Stanton appears agnostic to pitch speed and likely pitch movement since slower pitches (e.g. curveballs, sliders, and changeups) tend to have more break. Statcast <em>does</em> track pitch movement and type but let's move on to something else: <strong>pitch location</strong>. Statcast tracks the zone the pitch is in when it crosses the plate. The zone numbering looks like this (from the catcher's point of view):</p>\n",
        "<p><img style=\"margin:5px 20px 5px 1px; width:20%;\" src=\"https://tinyurl.com/y5fufz99\"></p>\n",
        "<p>We can plot this using a 2D histogram. For simplicity, let's only look at strikes, which gives us a 9x9 grid. We can view each zone as coordinates on a 2D plot, the bottom left corner being (1,1) and the top right corner being (3,3). Let's set up a function to assign x-coordinates to each pitch.</p>"
      ]
    },
    {
      "cell_type": "code",
      "metadata": {
        "dc": {
          "key": "39"
        },
        "tags": [
          "sample_code"
        ],
        "trusted": true,
        "id": "O6OkmiMomg9X",
        "colab_type": "code",
        "colab": {}
      },
      "source": [
        "def assign_x_coord(row):\n",
        "    \"\"\"\n",
        "    Assigns an x-coordinate to Statcast's strike zone numbers. Zones 11, 12, 13,\n",
        "    and 14 are ignored for plotting simplicity.\n",
        "    \"\"\"\n",
        "    # Left third of strike zone\n",
        "    if row.zone in [1, 4, 7]:\n",
        "        # ... YOUR CODE FOR TASK 6 ...\n",
        "        return 1 \n",
        "    \n",
        "    \n",
        "    # Middle third of strike zone\n",
        "    if row.zone in [2, 5, 8]:\n",
        "        # ... YOUR CODE FOR TASK 6 ...\n",
        "        return 2\n",
        "        \n",
        "    # Right third of strike zone\n",
        "    if row.zone in [3, 6, 9]:\n",
        "        # ... YOUR CODE FOR TASK 6 ...\n",
        "        return 3\n",
        "        "
      ],
      "execution_count": 0,
      "outputs": []
    },
    {
      "cell_type": "markdown",
      "metadata": {
        "dc": {
          "key": "46"
        },
        "deletable": false,
        "editable": false,
        "run_control": {
          "frozen": true
        },
        "tags": [
          "context"
        ],
        "id": "cWpKGxwMmg9Z",
        "colab_type": "text"
      },
      "source": [
        "## 7. Home runs by pitch location (II)\n",
        "<p>And let's do the same but for y-coordinates.</p>"
      ]
    },
    {
      "cell_type": "code",
      "metadata": {
        "dc": {
          "key": "46"
        },
        "tags": [
          "sample_code"
        ],
        "trusted": true,
        "id": "9En8HwzZmg9a",
        "colab_type": "code",
        "colab": {}
      },
      "source": [
        "def assign_y_coord(row):\n",
        "    \"\"\"\n",
        "    Assigns a y-coordinate to Statcast's strike zone numbers. Zones 11, 12, 13,\n",
        "    and 14 are ignored for plotting simplicity.\n",
        "    \"\"\"\n",
        "    # Upper third of strike zone\n",
        "    if row.zone in [1,2,3]:\n",
        "        return 3\n",
        "    \n",
        "    # Middle third of strike zone\n",
        "    if row.zone in [4,5,6]:\n",
        "        return 2\n",
        "\n",
        "    # Lower third of strike zone\n",
        "    if row.zone in [7,8,9]:\n",
        "        return 1"
      ],
      "execution_count": 0,
      "outputs": []
    },
    {
      "cell_type": "markdown",
      "metadata": {
        "dc": {
          "key": "53"
        },
        "deletable": false,
        "editable": false,
        "run_control": {
          "frozen": true
        },
        "tags": [
          "context"
        ],
        "id": "Mlfoyfaqmg9c",
        "colab_type": "text"
      },
      "source": [
        "## 8. Aaron Judge's home run zone\n",
        "<p>Now we can apply the functions we've created then construct our 2D histograms. First, for Aaron Judge (again, for pitches in the strike zone that resulted in home runs).</p>"
      ]
    },
    {
      "cell_type": "code",
      "metadata": {
        "dc": {
          "key": "53"
        },
        "tags": [
          "sample_code"
        ],
        "trusted": true,
        "id": "eth-jSGpmg9d",
        "colab_type": "code",
        "colab": {
          "base_uri": "https://localhost:8080/",
          "height": 285
        },
        "outputId": "eb023481-a3d5-4ff7-ac9b-caa0374ed0b5"
      },
      "source": [
        "# Zones 11, 12, 13, and 14 are to be ignored for plotting simplicity\n",
        "judge_strike_hr = judge_hr.copy().loc[judge_hr.zone <= 9]\n",
        "\n",
        "# Assign Cartesian coordinates to pitches in the strike zone for Judge home runs\n",
        "judge_strike_hr['zone_x'] = judge_strike_hr.apply(assign_x_coord, axis = 1)\n",
        "judge_strike_hr['zone_y'] = judge_strike_hr.apply(assign_y_coord, axis = 1)\n",
        "\n",
        "# Plot Judge's home run zone as a 2D histogram with a colorbar\n",
        "plt.hist2d(judge_strike_hr['zone_x'], judge_strike_hr['zone_y'], bins = 3, cmap='Blues')\n",
        "plt.title('Aaron Judge Home Runs on\\n Pitches in the Strike Zone, 2015-2017')\n",
        "plt.gca().get_xaxis().set_visible(False)\n",
        "plt.gca().get_yaxis().set_visible(False)\n",
        "cb = plt.colorbar()\n",
        "cb.set_label('Counts in Bin')"
      ],
      "execution_count": 9,
      "outputs": [
        {
          "output_type": "display_data",
          "data": {
            "image/png": "[encoded data removed]",
            "text/plain": [
              "<Figure size 432x288 with 2 Axes>"
            ]
          },
          "metadata": {
            "tags": []
          }
        }
      ]
    },
    {
      "cell_type": "markdown",
      "metadata": {
        "dc": {
          "key": "60"
        },
        "deletable": false,
        "editable": false,
        "run_control": {
          "frozen": true
        },
        "tags": [
          "context"
        ],
        "id": "ceVhPawTmg9g",
        "colab_type": "text"
      },
      "source": [
        "## 9. Giancarlo Stanton's home run zone\n",
        "<p>And now for Giancarlo Stanton.</p>"
      ]
    },
    {
      "cell_type": "code",
      "metadata": {
        "dc": {
          "key": "60"
        },
        "tags": [
          "sample_code"
        ],
        "trusted": true,
        "id": "q6Ue_qL1mg9h",
        "colab_type": "code",
        "colab": {
          "base_uri": "https://localhost:8080/",
          "height": 283
        },
        "outputId": "8705b8ad-9526-48c3-a831-5306ab3622bd"
      },
      "source": [
        "# Zones 11, 12, 13, and 14 are to be ignored for plotting simplicity\n",
        "stanton_strike_hr = stanton_hr.copy().loc[stanton_hr.zone <= 9]\n",
        "\n",
        "# Assign Cartesian coordinates to pitches in the strike zone for Stanton home runs\n",
        "stanton_strike_hr['zone_x'] = stanton_strike_hr.apply(assign_x_coord, axis = 1)\n",
        "stanton_strike_hr['zone_y'] = stanton_strike_hr.apply(assign_y_coord, axis = 1)\n",
        "\n",
        "\n",
        "# Plot Stanton's home run zone as a 2D histogram with a colorbar\n",
        "plt.hist2d(stanton_strike_hr['zone_x'], stanton_strike_hr['zone_y'], bins = 3)\n",
        "plt.title('Giancarlo Stanton Home Runs on\\n Pitches in the Strike Zone, 2015-2017')\n",
        "plt.gca().get_xaxis().set_visible(False)\n",
        "plt.gca().get_yaxis().set_visible(False)\n",
        "cb = plt.colorbar()\n",
        "cb.set_label('Counts in Bin')"
      ],
      "execution_count": 10,
      "outputs": [
        {
          "output_type": "display_data",
          "data": {
            "image/png": "[encoded data removed]",
            "text/plain": [
              "<Figure size 432x288 with 2 Axes>"
            ]
          },
          "metadata": {
            "tags": []
          }
        }
      ]
    },
    {
      "cell_type": "markdown",
      "metadata": {
        "dc": {
          "key": "67"
        },
        "deletable": false,
        "editable": false,
        "run_control": {
          "frozen": true
        },
        "tags": [
          "context"
        ],
        "id": "mMZP_Hf2mg9j",
        "colab_type": "text"
      },
      "source": [
        "\n",
        "##<p>A few takeaways:</p>\n",
        "<ul>\n",
        "<li>Stanton does not hit many home runs on pitches in the upper third of the strike zone.</li>\n",
        "<li>Like pretty much every hitter ever, both players love pitches in the horizontal and vertical middle of the plate.</li>\n",
        "<li>Judge's least favorite home run pitch appears to be high-away while Stanton's appears to be low-away.</li>\n",
        "<li>If we were to describe Stanton's home run zone, it'd be middle-inside. Judge's home run zone is much more spread out.</li>\n",
        "</ul>\n",
        "<p>The grand takeaway from this whole exercise: Aaron Judge and Giancarlo Stanton are not identical despite their superficial similarities. In terms of home runs, their launch profiles, as well as their pitch speed and location preferences, are different.</p>\n"
      ]
    }
  ]
}