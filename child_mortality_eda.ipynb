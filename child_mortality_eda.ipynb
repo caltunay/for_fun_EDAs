{
  "nbformat": 4,
  "nbformat_minor": 0,
  "metadata": {
    "language_info": {
      "codemirror_mode": {
        "version": 3,
        "name": "ipython"
      },
      "version": "3.5.2",
      "nbconvert_exporter": "python",
      "pygments_lexer": "ipython3",
      "mimetype": "text/x-python",
      "file_extension": ".py",
      "name": "python"
    },
    "kernelspec": {
      "display_name": "Python 3",
      "name": "python3",
      "language": "python"
    },
    "colab": {
      "name": "child mortality eda.ipynb",
      "provenance": [],
      "toc_visible": true,
      "include_colab_link": true
    }
  },
  "cells": [
    {
      "cell_type": "markdown",
      "metadata": {
        "id": "view-in-github",
        "colab_type": "text"
      },
      "source": [
        "<a href=\"https://colab.research.google.com/github/caltunay/for_fun_EDAs/blob/master/child_mortality_eda.ipynb\" target=\"_parent\"><img src=\"https://colab.research.google.com/assets/colab-badge.svg\" alt=\"Open In Colab\"/></a>"
      ]
    },
    {
      "cell_type": "code",
      "metadata": {
        "id": "6VwLmga8r05D",
        "colab_type": "code",
        "colab": {
          "base_uri": "https://localhost:8080/",
          "height": 128
        },
        "outputId": "494156e3-c34a-4a50-c232-ab4a3ec7e14f"
      },
      "source": [
        "from google.colab import drive\n",
        "drive.mount('/content/drive')"
      ],
      "execution_count": 1,
      "outputs": [
        {
          "output_type": "stream",
          "text": [
            "Go to this URL in a browser: https://accounts.google.com/o/oauth2/auth?client_id=947318989803-6bn6qk8qdgf4n4g3pfee6491hc0brc4i.apps.googleusercontent.com&redirect_uri=urn%3Aietf%3Awg%3Aoauth%3A2.0%3Aoob&scope=email%20https%3A%2F%2Fwww.googleapis.com%2Fauth%2Fdocs.test%20https%3A%2F%2Fwww.googleapis.com%2Fauth%2Fdrive%20https%3A%2F%2Fwww.googleapis.com%2Fauth%2Fdrive.photos.readonly%20https%3A%2F%2Fwww.googleapis.com%2Fauth%2Fpeopleapi.readonly&response_type=code\n",
            "\n",
            "Enter your authorization code:\n",
            "··········\n",
            "Mounted at /content/drive\n"
          ],
          "name": "stdout"
        }
      ]
    },
    {
      "cell_type": "markdown",
      "metadata": {
        "deletable": false,
        "editable": false,
        "tags": [
          "context"
        ],
        "dc": {
          "key": "13f090f9f0"
        },
        "run_control": {
          "frozen": true
        },
        "id": "a6VeplmImjOf",
        "colab_type": "text"
      },
      "source": [
        "## 1 Intro\n",
        "<p>This is Dr. Ignaz Semmelweis, a Hungarian physician born in 1818 and active at the Vienna General Hospital. If Dr. Semmelweis looks troubled it's probably because he's thinking about <em>childbed fever</em>: A deadly disease affecting women that just have given birth. He is thinking about it because in the early 1840s at the Vienna General Hospital as many as 10% of the women giving birth die from it. He is thinking about it because he knows the cause of childbed fever: It's the contaminated hands of the doctors delivering the babies. And they won't listen to him and <em>wash their hands</em>!</p>\n",
        "<p>In this notebook, I am going to reanalyze the data that made Semmelweis discover the importance of <em>handwashing</em>. Let's start by looking at the data that made Semmelweis realize that something was wrong with the procedures at Vienna General Hospital.</p>"
      ]
    },
    {
      "cell_type": "code",
      "metadata": {
        "tags": [
          "sample_code"
        ],
        "dc": {
          "key": "13f090f9f0"
        },
        "trusted": true,
        "id": "KI1UH52DmjOh",
        "colab_type": "code",
        "colab": {
          "base_uri": "https://localhost:8080/",
          "height": 254
        },
        "outputId": "820d3c85-2891-48a8-991d-ef77835b3f96"
      },
      "source": [
        "# importing modules\n",
        "import pandas as pd\n",
        "\n",
        "yearly = pd.read_csv('/content/drive/My Drive/Colab Notebooks/For fun EDAs/yearly_deaths_by_clinic.csv')\n",
        "print(yearly)"
      ],
      "execution_count": 4,
      "outputs": [
        {
          "output_type": "stream",
          "text": [
            "    year  births  deaths    clinic\n",
            "0   1841    3036     237  clinic 1\n",
            "1   1842    3287     518  clinic 1\n",
            "2   1843    3060     274  clinic 1\n",
            "3   1844    3157     260  clinic 1\n",
            "4   1845    3492     241  clinic 1\n",
            "5   1846    4010     459  clinic 1\n",
            "6   1841    2442      86  clinic 2\n",
            "7   1842    2659     202  clinic 2\n",
            "8   1843    2739     164  clinic 2\n",
            "9   1844    2956      68  clinic 2\n",
            "10  1845    3241      66  clinic 2\n",
            "11  1846    3754     105  clinic 2\n"
          ],
          "name": "stdout"
        }
      ]
    },
    {
      "cell_type": "markdown",
      "metadata": {
        "deletable": false,
        "editable": false,
        "tags": [
          "context"
        ],
        "dc": {
          "key": "45ea098e15"
        },
        "run_control": {
          "frozen": true
        },
        "id": "Yuqf4hyZmjOl",
        "colab_type": "text"
      },
      "source": [
        "## 2. The alarming number of deaths\n",
        "<p>The table above shows the number of women giving birth at the two clinics at the Vienna General Hospital for the years 1841 to 1846. You'll notice that giving birth was very dangerous; an <em>alarming</em> number of women died as the result of childbirth, most of them from childbed fever.</p>\n",
        "<p>We see this more clearly if we look at the <em>proportion of deaths</em> out of the number of women giving birth. Let's zoom in on the proportion of deaths at Clinic 1.</p>"
      ]
    },
    {
      "cell_type": "code",
      "metadata": {
        "tags": [
          "sample_code"
        ],
        "dc": {
          "key": "45ea098e15"
        },
        "trusted": true,
        "id": "28NIubJSmjOm",
        "colab_type": "code",
        "colab": {
          "base_uri": "https://localhost:8080/",
          "height": 145
        },
        "outputId": "541465a9-3cbb-4da8-c642-e0e65a58bb8a"
      },
      "source": [
        "# Calculate proportion of deaths per no. births\n",
        "yearly['proportion_deaths']=yearly['deaths']/yearly['births']\n",
        "\n",
        "# Extract clinic 1 data into yearly1 and clinic 2 data into yearly2\n",
        "yearly1 = yearly[yearly['clinic']=='clinic 1']\n",
        "yearly2 = yearly[yearly['clinic']=='clinic 2']\n",
        "\n",
        "\n",
        "print(yearly1)"
      ],
      "execution_count": 5,
      "outputs": [
        {
          "output_type": "stream",
          "text": [
            "   year  births  deaths    clinic  proportion_deaths\n",
            "0  1841    3036     237  clinic 1           0.078063\n",
            "1  1842    3287     518  clinic 1           0.157591\n",
            "2  1843    3060     274  clinic 1           0.089542\n",
            "3  1844    3157     260  clinic 1           0.082357\n",
            "4  1845    3492     241  clinic 1           0.069015\n",
            "5  1846    4010     459  clinic 1           0.114464\n"
          ],
          "name": "stdout"
        }
      ]
    },
    {
      "cell_type": "markdown",
      "metadata": {
        "deletable": false,
        "editable": false,
        "tags": [
          "context"
        ],
        "dc": {
          "key": "2bc9206960"
        },
        "run_control": {
          "frozen": true
        },
        "id": "U8O_5WnSmjOp",
        "colab_type": "text"
      },
      "source": [
        "## 3. Death at the clinics\n",
        "<p>If we now plot the proportion of deaths at both clinic 1 and clinic 2  we'll see a curious pattern...</p>"
      ]
    },
    {
      "cell_type": "code",
      "metadata": {
        "tags": [
          "sample_code"
        ],
        "dc": {
          "key": "2bc9206960"
        },
        "trusted": true,
        "id": "BkDyJmgDmjOp",
        "colab_type": "code",
        "colab": {
          "base_uri": "https://localhost:8080/",
          "height": 301
        },
        "outputId": "8c24c02e-da1c-43cb-bed2-c82c41e829fc"
      },
      "source": [
        "# This makes plots appear in the notebook\n",
        "%matplotlib inline\n",
        "\n",
        "# Plot yearly proportion of deaths at the two clinics\n",
        "ax = yearly1.plot(x='year',y='proportion_deaths',label='clinic 1')\n",
        "yearly2.plot(x='year',y='proportion_deaths',label='clinic 2',ax=ax)"
      ],
      "execution_count": 6,
      "outputs": [
        {
          "output_type": "execute_result",
          "data": {
            "text/plain": [
              "<matplotlib.axes._subplots.AxesSubplot at 0x7ff5e9bff2e8>"
            ]
          },
          "metadata": {
            "tags": []
          },
          "execution_count": 6
        },
        {
          "output_type": "display_data",
          "data": {
            "image/png": "[encoded data removed]",
            "text/plain": [
              "<Figure size 432x288 with 1 Axes>"
            ]
          },
          "metadata": {
            "tags": []
          }
        }
      ]
    },
    {
      "cell_type": "markdown",
      "metadata": {
        "deletable": false,
        "editable": false,
        "tags": [
          "context"
        ],
        "dc": {
          "key": "0c9fdbf550"
        },
        "run_control": {
          "frozen": true
        },
        "id": "A4y0Z64jmjOs",
        "colab_type": "text"
      },
      "source": [
        "## 4. The handwashing begins\n",
        "<p>Why is the proportion of deaths constantly so much higher in Clinic 1? Semmelweis saw the same pattern and was puzzled and distressed. The only difference between the clinics was that many medical students served at Clinic 1, while mostly midwife students served at Clinic 2. While the midwives only tended to the women giving birth, the medical students also spent time in the autopsy rooms examining corpses. </p>\n",
        "<p>Semmelweis started to suspect that something on the corpses, spread from the hands of the medical students, caused childbed fever. So in a desperate attempt to stop the high mortality rates, he decreed: <em>Wash your hands!</em> This was an unorthodox and controversial request, nobody in Vienna knew about bacteria at this point in time. </p>"
      ]
    },
    {
      "cell_type": "code",
      "metadata": {
        "tags": [
          "sample_code"
        ],
        "dc": {
          "key": "0c9fdbf550"
        },
        "trusted": true,
        "id": "a2YXpotUmjOt",
        "colab_type": "code",
        "colab": {
          "base_uri": "https://localhost:8080/",
          "height": 126
        },
        "outputId": "a14ae22c-4761-43c5-a729-89a57e549743"
      },
      "source": [
        "# Read datasets/monthly_deaths.csv into monthly\n",
        "monthly = pd.read_csv('/content/drive/My Drive/Colab Notebooks/For fun EDAs/monthly_deaths.csv',parse_dates=['date'])\n",
        "\n",
        "# Calculate proportion of deaths per no. births\n",
        "monthly['proportion_deaths']=monthly['deaths']/monthly['births']\n",
        "\n",
        "print(monthly.head())"
      ],
      "execution_count": 7,
      "outputs": [
        {
          "output_type": "stream",
          "text": [
            "        date  births  deaths  proportion_deaths\n",
            "0 1841-01-01     254      37           0.145669\n",
            "1 1841-02-01     239      18           0.075314\n",
            "2 1841-03-01     277      12           0.043321\n",
            "3 1841-04-01     255       4           0.015686\n",
            "4 1841-05-01     255       2           0.007843\n"
          ],
          "name": "stdout"
        }
      ]
    },
    {
      "cell_type": "markdown",
      "metadata": {
        "deletable": false,
        "editable": false,
        "tags": [
          "context"
        ],
        "dc": {
          "key": "2da2a84119"
        },
        "run_control": {
          "frozen": true
        },
        "id": "BHTarZmamjOv",
        "colab_type": "text"
      },
      "source": [
        "## 5. The effect of handwashing\n",
        "<p>With the data loaded we can now look at the proportion of deaths over time. In the plot below we haven't marked where obligatory handwashing started, but it reduced the proportion of deaths to such a degree that you should be able to spot it!</p>"
      ]
    },
    {
      "cell_type": "code",
      "metadata": {
        "tags": [
          "sample_code"
        ],
        "dc": {
          "key": "2da2a84119"
        },
        "trusted": true,
        "id": "vkL9Bf-pmjOw",
        "colab_type": "code",
        "colab": {
          "base_uri": "https://localhost:8080/",
          "height": 273
        },
        "outputId": "9f299af5-ba71-4b43-9b92-a095dbd44f58"
      },
      "source": [
        "# Plot monthly proportion of deaths\n",
        "import matplotlib.pyplot as plt\n",
        "ax = monthly.plot(x='date',y='proportion_deaths',label='Proportion deaths')\n",
        "\n",
        "# plt.ylabel('Proportion deaths')\n",
        "# plt.show()"
      ],
      "execution_count": 8,
      "outputs": [
        {
          "output_type": "display_data",
          "data": {
            "image/png": "[encoded data removed]",
            "text/plain": [
              "<Figure size 432x288 with 1 Axes>"
            ]
          },
          "metadata": {
            "tags": []
          }
        }
      ]
    },
    {
      "cell_type": "markdown",
      "metadata": {
        "deletable": false,
        "editable": false,
        "tags": [
          "context"
        ],
        "dc": {
          "key": "518e95acc5"
        },
        "run_control": {
          "frozen": true
        },
        "id": "ddbHqfYvmjOy",
        "colab_type": "text"
      },
      "source": [
        "## 6. The effect of handwashing highlighted\n",
        "<p>Starting from the summer of 1847 the proportion of deaths is drastically reduced and, yes, this was when Semmelweis made handwashing obligatory. </p>\n",
        "<p>The effect of handwashing is made even more clear if we highlight this in the graph.</p>"
      ]
    },
    {
      "cell_type": "code",
      "metadata": {
        "tags": [
          "sample_code"
        ],
        "dc": {
          "key": "518e95acc5"
        },
        "trusted": true,
        "id": "ae-iz_8omjOz",
        "colab_type": "code",
        "colab": {
          "base_uri": "https://localhost:8080/",
          "height": 291
        },
        "outputId": "1cee8f00-0d48-4939-ffac-75a13520149c"
      },
      "source": [
        "# Date when handwashing was made mandatory\n",
        "import pandas as pd\n",
        "handwashing_start = pd.to_datetime('1847-06-01')\n",
        "\n",
        "# Split monthly into before and after handwashing_start\n",
        "before_washing = monthly[monthly['date']<handwashing_start]\n",
        "after_washing = monthly[monthly['date']>=handwashing_start]\n",
        "\n",
        "# Plot monthly proportion of deaths before and after handwashing\n",
        "ax = before_washing.plot(x='date',y='proportion_deaths',label='Before washing hands')\n",
        "after_washing.plot(x='date',y='proportion_deaths',label='After washing hands',ax=ax,legend=True)\n",
        "ax.set_ylabel('Proportion deaths')"
      ],
      "execution_count": 9,
      "outputs": [
        {
          "output_type": "execute_result",
          "data": {
            "text/plain": [
              "Text(0, 0.5, 'Proportion deaths')"
            ]
          },
          "metadata": {
            "tags": []
          },
          "execution_count": 9
        },
        {
          "output_type": "display_data",
          "data": {
            "image/png": "[encoded data removed]",
            "text/plain": [
              "<Figure size 432x288 with 1 Axes>"
            ]
          },
          "metadata": {
            "tags": []
          }
        }
      ]
    },
    {
      "cell_type": "markdown",
      "metadata": {
        "deletable": false,
        "editable": false,
        "tags": [
          "context"
        ],
        "dc": {
          "key": "586a9f9803"
        },
        "run_control": {
          "frozen": true
        },
        "id": "zoDH-x5CmjO1",
        "colab_type": "text"
      },
      "source": [
        "## 7. More handwashing, fewer deaths?\n",
        "<p>Again, the graph shows that handwashing had a huge effect. How much did it reduce the monthly proportion of deaths on average?</p>"
      ]
    },
    {
      "cell_type": "code",
      "metadata": {
        "tags": [
          "sample_code"
        ],
        "dc": {
          "key": "586a9f9803"
        },
        "trusted": true,
        "id": "SaPIFSqlmjO2",
        "colab_type": "code",
        "colab": {
          "base_uri": "https://localhost:8080/",
          "height": 35
        },
        "outputId": "ec709fb0-8ff8-49b1-e405-5b8d8f2cf9c7"
      },
      "source": [
        "# Difference in mean monthly proportion of deaths due to handwashing\n",
        "before_proportion = before_washing['proportion_deaths']\n",
        "after_proportion = after_washing['proportion_deaths']\n",
        "mean_diff = after_proportion.mean() - before_proportion.mean()\n",
        "mean_diff"
      ],
      "execution_count": 10,
      "outputs": [
        {
          "output_type": "execute_result",
          "data": {
            "text/plain": [
              "-0.0839566075118334"
            ]
          },
          "metadata": {
            "tags": []
          },
          "execution_count": 10
        }
      ]
    },
    {
      "cell_type": "markdown",
      "metadata": {
        "deletable": false,
        "editable": false,
        "tags": [
          "context"
        ],
        "dc": {
          "key": "d8ff65292a"
        },
        "run_control": {
          "frozen": true
        },
        "id": "mfNc72cXmjO4",
        "colab_type": "text"
      },
      "source": [
        "## 8. A Bootstrap analysis of Semmelweis handwashing data\n",
        "<p>It reduced the proportion of deaths by around 8 percentage points! From 10% on average to just 2% (which is still a high number by modern standards). </p>\n",
        "<p>To get a feeling for the uncertainty around how much handwashing reduces mortalities we could look at a confidence interval (here calculated using the <b>bootstrap method</b>).</p>"
      ]
    },
    {
      "cell_type": "code",
      "metadata": {
        "tags": [
          "sample_code"
        ],
        "dc": {
          "key": "d8ff65292a"
        },
        "trusted": true,
        "id": "SYbxUPhsmjO5",
        "colab_type": "code",
        "colab": {
          "base_uri": "https://localhost:8080/",
          "height": 72
        },
        "outputId": "57a17d1e-c2b8-49f0-944c-5a2475c500af"
      },
      "source": [
        "# A bootstrap analysis of the reduction of deaths due to handwashing\n",
        "boot_mean_diff = []\n",
        "for i in range(3000):\n",
        "    \n",
        "    boot_before = before_proportion.sample(frac=1,replace=True)\n",
        "    boot_after = after_proportion.sample(frac=1,replace=True)\n",
        "    \n",
        "    boot_mean_diff.append(boot_after.mean()-boot_before.mean())\n",
        "\n",
        "# Calculating a 95% confidence interval from boot_mean_diff \n",
        "confidence_interval = pd.Series(boot_mean_diff).quantile([0.025,0.975])\n",
        "confidence_interval\n"
      ],
      "execution_count": 11,
      "outputs": [
        {
          "output_type": "execute_result",
          "data": {
            "text/plain": [
              "0.025   -0.100678\n",
              "0.975   -0.068158\n",
              "dtype: float64"
            ]
          },
          "metadata": {
            "tags": []
          },
          "execution_count": 11
        }
      ]
    },
    {
      "cell_type": "markdown",
      "metadata": {
        "deletable": false,
        "editable": false,
        "tags": [
          "context"
        ],
        "dc": {
          "key": "0645423069"
        },
        "run_control": {
          "frozen": true
        },
        "id": "LQC0-InFmjO7",
        "colab_type": "text"
      },
      "source": [
        "## 9. The fate of Dr. Semmelweis\n",
        "<p>So handwashing reduced the proportion of deaths by between 6.7 and 10 percentage points, according to a 95% confidence interval. All in all, it would seem that Semmelweis had solid evidence that handwashing was a simple but highly effective procedure that could save many lives.</p>\n",
        "<p>The tragedy is that, despite the evidence, Semmelweis' theory — that childbed fever was caused by some \"substance\" (what we today know as <em>bacteria</em>) from autopsy room corpses — was ridiculed by contemporary scientists. The medical community largely rejected his discovery and in 1849 he was forced to leave the Vienna General Hospital for good.</p>\n",
        "<p>One reason for this was that statistics and statistical arguments were uncommon in medical science in the 1800s. Semmelweis only published his data as long tables of raw data, but he didn't show any graphs nor confidence intervals. If he would have had access to the analysis we've just put together he might have been more successful in getting the Viennese doctors to wash their hands.</p>"
      ]
    }
  ]
}